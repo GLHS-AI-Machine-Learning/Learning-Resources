{
  "nbformat": 4,
  "nbformat_minor": 0,
  "metadata": {
    "colab": {
      "provenance": []
    },
    "kernelspec": {
      "name": "python3",
      "display_name": "Python 3"
    },
    "language_info": {
      "name": "python"
    }
  },
  "cells": [
    {
      "cell_type": "markdown",
      "source": [
        "## Introduction to Object-Oriented Programming (OOP)\n",
        "\n",
        "Welcome to an extra lesson on OOP! If you're here, congratulations on getting through the previous lessons! \n",
        "\n",
        "OOP is not necessary nor required in the AI & Machine Learning Club. However, taking the time to learn it is a great stepping stone in the programming world.\n",
        "\n",
        "Like always, copy this notebook into Deepnote, and we can go from there."
      ],
      "metadata": {
        "id": "v_wS-b-LKrev"
      }
    },
    {
      "cell_type": "markdown",
      "source": [
        "## What is OOP?\n",
        "\n",
        "First off, OOP is a programming paradigm based on \"objects\" which each contain data and code.\n",
        "\n",
        "A programming paradigm is essentially a classification of code based on their features. For example, our previously written code on functions was done in the procedural paradigm.\n",
        "\n",
        "Now with that out of the way, let's start with an analogy. Let's say we have a car. This car can have many features, such as color, model name, year built, # of seats, etc. If we were to translate this into OOP, the object in question would be the car and those previously listed features would be attributes.\n",
        "\n",
        "To create a car object, we need to use a class for it. Think of classes like blueprints or a shell. The car object is simply a class/blueprint to build cars. Let's build this class."
      ],
      "metadata": {
        "id": "OYM-lu-dLWpK"
      }
    },
    {
      "cell_type": "code",
      "execution_count": null,
      "metadata": {
        "id": "NshIO-5aKjmN"
      },
      "outputs": [],
      "source": [
        "class Car:  # Syntax for a class include the word 'class' then the name and a :\n",
        "  def __init__(self, year, color):\n",
        "    self.year = year\n",
        "    self.color = color\n",
        "\n",
        "  def my_color(self):  # Syntax for creating methods include the 'def', method name, and () with the 'self' keyword + optional arguments\n",
        "    print(self.color)\n",
        "  \n",
        "  def change_year(self, new_year):\n",
        "    self.year = new_year # When calling variables, make sure to call them using 'self.VARIABLE-NAME'\n",
        "    print(self.year)\n",
        "\n"
      ]
    },
    {
      "cell_type": "markdown",
      "source": [
        "## What is the init?\n",
        "\n",
        "In the class, we wrote `def __init__()` which is the syntax for a constructor. Every class you write in any language will need some sort of constructor.\n",
        "\n",
        "The constructor is a piece of code that is __always__ executed when the class is called. Other methods in the class run when explicitly called, but the constructor is always automatically run.\n",
        "\n",
        "We need the constructor to assign values to object properties. Basically, we need a way to __initialize__ the arguments in `()` and the constructor simply does that. When creating a constructor, its important to make the first argument `self`, as this binds the object's attributes to the arguments received."
      ],
      "metadata": {
        "id": "ekwnApjfTYG3"
      }
    },
    {
      "cell_type": "markdown",
      "source": [
        "## Creating Car Objects"
      ],
      "metadata": {
        "id": "6b0xtYP_WwA9"
      }
    },
    {
      "cell_type": "code",
      "source": [
        "car1 = Car(2022, 'red')  # Syntax for calling the car blueprint and making a car object\n",
        "\n",
        "car1.my_color()  # Syntax for calling a method\n",
        "car1.change_year('2023')\n",
        "print(car1.color)  # Syntax for accessing object attributes"
      ],
      "metadata": {
        "colab": {
          "base_uri": "https://localhost:8080/"
        },
        "id": "Xy2mTOo7WzK9",
        "outputId": "6f3c7c28-c83b-47d8-f9d9-94749b0109f9"
      },
      "execution_count": null,
      "outputs": [
        {
          "output_type": "stream",
          "name": "stdout",
          "text": [
            "red\n",
            "2023\n",
            "red\n"
          ]
        }
      ]
    },
    {
      "cell_type": "markdown",
      "source": [
        "## Coding Challenge #1\n",
        "\n",
        "In this challenge, you will create a class called 'Dog'.\n",
        "\n",
        "The constructor will take in the dog's name, age, and breed. Afterwards, create a `get_description` method that prints the dog's name, age, and breed like this: 'NAME is AGE years old and is a BREED'\n",
        "\n",
        "Finally, create another function called `increase_age` that adds 1 to the dog's age. Both functions do not need any parameters."
      ],
      "metadata": {
        "id": "UJ8GPCvBXPHU"
      }
    },
    {
      "cell_type": "code",
      "source": [
        "## YOUR CODE HERE ##\n",
        "\n"
      ],
      "metadata": {
        "colab": {
          "base_uri": "https://localhost:8080/"
        },
        "id": "rn7lHvvTXOi3",
        "outputId": "349030e6-ab6e-41c1-8935-50ff59ffa443"
      },
      "execution_count": null,
      "outputs": [
        {
          "output_type": "stream",
          "name": "stdout",
          "text": [
            "Tori is 1 years old and is a maltipoo\n",
            "2\n"
          ]
        }
      ]
    },
    {
      "cell_type": "markdown",
      "source": [
        "## 4 Pillars of OOP\n",
        "\n",
        "To truly understand how OOP works, one must understand the 4 big concepts of OOP. These include: abstraction, encapsulation, inheritance, and polymorphism. For now, we will go over some simple definitions.\n",
        "\n",
        "Abstraction in Python is the process of hiding the real implementation of an application from the user and emphasizing only how to use the application. \n",
        "\n",
        "Encapsulation is the process of wrapping up variables and methods into a single entity. When your code is encapsulated, it is protected against outside effects.\n",
        "\n",
        "Inheritance allows us to define a class that inherits all the methods and properties from another class. A parent class is the class being inherited from, also called base class. Child class is the class that inherits from another class, also called derived class. \n",
        "\n",
        "Polymorphism means the same function name is used for different types. Basically, polymorphism lets us define methods in the child class that have the same name as the methods in the parent class.\n",
        "\n",
        "Don't worry if these definitions confused you! Parent and child classes can get confusing, and its okay if you do not understand how they work. we can't go over everything in this lesson, but feel free to learn more about the 4 pillars on your own time."
      ],
      "metadata": {
        "id": "2n8s0SpNY4XM"
      }
    },
    {
      "cell_type": "markdown",
      "source": [
        "## Coding Challenge #2\n",
        "\n",
        "Now that you know the basics of object-oriented programming, let's finish this lesson with a slightly tougher challenge.\n",
        "\n",
        "In this coding challenge, you will create a `Bank` class. The constructor needs to take in a name and account balance.\n",
        "\n",
        "Afterwards, build a `get_balance` method that prints the account balance like this: \"The account NAME has a balance of BALANCE dollars\"\n",
        "\n",
        "Next, build a `withdraw` method which decreases the account balance by the amount in the argument. Print the balance afterwards.\n",
        "\n",
        "Then, build a `deposit` method which functions the same way as the `withdraw` method, except it adds the amount.\n",
        "\n",
        "When you're done with the class, call it and test out your methods.\n",
        "\n",
        "Have fun!"
      ],
      "metadata": {
        "id": "VRIVjtMbZFuy"
      }
    },
    {
      "cell_type": "code",
      "source": [
        "## YOUR CODE HERE ##\n",
        "\n",
        "\n"
      ],
      "metadata": {
        "colab": {
          "base_uri": "https://localhost:8080/"
        },
        "id": "dm_k7hLVaD0I",
        "outputId": "6c74a3ff-641b-4b5c-e42f-684e2d443b61"
      },
      "execution_count": null,
      "outputs": [
        {
          "output_type": "stream",
          "name": "stdout",
          "text": [
            "The account Bob Jones has a balance of 10 dollars\n",
            "9 is the new balance\n",
            "238956 is the new balance\n"
          ]
        }
      ]
    }
  ]
}