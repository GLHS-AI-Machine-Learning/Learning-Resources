{
  "nbformat": 4,
  "nbformat_minor": 0,
  "metadata": {
    "colab": {
      "name": "P2_Conditionals_and_Lists_SOLUTIONS.ipynb",
      "provenance": [],
      "collapsed_sections": []
    },
    "kernelspec": {
      "name": "python3",
      "display_name": "Python 3"
    },
    "language_info": {
      "name": "python"
    }
  },
  "cells": [
    {
      "cell_type": "markdown",
      "metadata": {
        "id": "uKUHTykXXDSc"
      },
      "source": [
        "# Introduction to Python: Part 2\n",
        "\n",
        "Welcome back! \n",
        "\n",
        "In the past lesson, you learned about variables, printing, data types, and doing math in Python. In this lesson, you will learn about operators, conditionals, and lists!\n",
        "\n",
        "Keep in mind that this is a very condensed course, so if you don't understand everything right away, that's perfectly normal. You can always look back to previous lessons, google any questions you have, or ask for help from us. You are always welcome to send any of us (Anna, Andrew, or Reyansh) a message through Remind!"
      ]
    },
    {
      "cell_type": "markdown",
      "metadata": {
        "id": "b5ybbXiWcY7F"
      },
      "source": [
        "## Operators\n",
        "\n",
        "Operators in Python carry out arithmetic and logical calculations. Many of these are similar to the ones we use in math.\n",
        "\n",
        "Below is a list of the most common operators.\n",
        "\n",
        "*   `==` Equal to/Same as (Yes, there are supposed to be two equal signs)\n",
        "*   `!=` Not equal to\n",
        "*   `<` Less than\n",
        "*   `<=` Less than or equal to\n",
        "*   `>` Greater than\n",
        "*   `>=` Greater than or equal to\n",
        "*   `%` Returns the remainder after doing division\n",
        "\n",
        "We will practice with these in a moment.\n",
        "\n",
        "The operators listed above are enough to know for now, but for a more complete list (or extra details), here is a great resource:\n",
        "https://www.tutorialspoint.com/python/python_basic_operators.htm "
      ]
    },
    {
      "cell_type": "markdown",
      "metadata": {
        "id": "b7iSRfpWQCmP"
      },
      "source": [
        "## If Statements (Conditionals)\n",
        "\n",
        "How can we change the output based on the input? We can use **conditionals** (if statements). For certain _conditions_, certain actions are performed.\n",
        "\n",
        "In fact, we often use \"if statements\" in real life. For example, we can say, \"If it is snowing, we will build a snowman.\" \n",
        "\n",
        "Look at this example of If Statements in Python:"
      ]
    },
    {
      "cell_type": "code",
      "metadata": {
        "id": "_eY16gH65Z7X",
        "colab": {
          "base_uri": "https://localhost:8080/"
        },
        "outputId": "5245a4ac-6f20-4758-8b48-e89457199002"
      },
      "source": [
        "num = 80\n",
        "\n",
        "if num > 50: # Notice that we are using the comparison operator > to compare num and 50\n",
        "  print(\"This is a large number!\")"
      ],
      "execution_count": 12,
      "outputs": [
        {
          "output_type": "stream",
          "name": "stdout",
          "text": [
            "This is a large number!\n"
          ]
        }
      ]
    },
    {
      "cell_type": "markdown",
      "metadata": {
        "id": "mb0u4O8qWk5W"
      },
      "source": [
        "But what if we wanted to say that any number not more than 50 is a small number? We can add an \"else\" statement!"
      ]
    },
    {
      "cell_type": "code",
      "metadata": {
        "colab": {
          "base_uri": "https://localhost:8080/"
        },
        "id": "j7FFyUfaWwsi",
        "outputId": "c1076516-e7ed-4a0c-d999-a0838b539c2e"
      },
      "source": [
        "num = 23\n",
        "\n",
        "if num > 50:\n",
        "  print(\"This is a large number!\")\n",
        "else:\n",
        "  print(\"This is a small number!\")"
      ],
      "execution_count": 13,
      "outputs": [
        {
          "output_type": "stream",
          "name": "stdout",
          "text": [
            "This is a small number!\n"
          ]
        }
      ]
    },
    {
      "cell_type": "markdown",
      "metadata": {
        "id": "4_VBcdGR_26X"
      },
      "source": [
        "### A Note on Indenting\n",
        "\n",
        "You may have noticed in all of the code examples above, there is a single indent for the line that comes after each if-statement condition and each else-statement. Why do you think we need an ident?\n",
        "\n",
        "Run the following blocks of code to look for an answer:"
      ]
    },
    {
      "cell_type": "code",
      "metadata": {
        "id": "ARmPnYh3AGc-"
      },
      "source": [
        "x = 3\n",
        "\n",
        "if x < 2:\n",
        "  print(\"Well, we know this will not print...\")\n",
        "  print(\"But what about this?\")"
      ],
      "execution_count": 14,
      "outputs": []
    },
    {
      "cell_type": "code",
      "metadata": {
        "id": "zvroZsG_AQSN",
        "colab": {
          "base_uri": "https://localhost:8080/"
        },
        "outputId": "890f4864-72ef-4918-e32d-6a8493440dc4"
      },
      "source": [
        "x = 3\n",
        "\n",
        "if x < 2:\n",
        "  print(\"Well, we know this will not print...\")\n",
        "print(\"But what about this?\")"
      ],
      "execution_count": 15,
      "outputs": [
        {
          "output_type": "stream",
          "name": "stdout",
          "text": [
            "But what about this?\n"
          ]
        }
      ]
    },
    {
      "cell_type": "markdown",
      "metadata": {
        "id": "2ktpJ4NPAWG2"
      },
      "source": [
        "We indent to communicate which blocks of code should be treated as a part of the conditional, and which parts come after the conditional. \n",
        "\n",
        "The parts that are indented are considered as part of the conditional. If the condition is met, than those lines of code will be run. If a line of code is not in the conditional, it will be run regardless of whether the condition is met.\n"
      ]
    },
    {
      "cell_type": "code",
      "metadata": {
        "colab": {
          "base_uri": "https://localhost:8080/"
        },
        "id": "oQV0BFRdctO5",
        "outputId": "4de8bb4b-c4c6-437c-bc39-a93921f47f97"
      },
      "source": [
        "num_students = 55\n",
        "# Write an if/else statement that says if the number of students at the club is over 35, Dr. Kaulfuss's room is overflowing. Otherwise, there is extra space.\n",
        "# Note that you can adjust num_students above and run the code multiple different times so that you can test if your conditional works for both scenarios :)\n",
        "\n",
        "### YOUR CODE HERE ###\n",
        "if num_students > 35:\n",
        "  print(\"Dr. Kaulfuss's room is overflowing!\")\n",
        "else:\n",
        "  print(\"There is extra space.\")"
      ],
      "execution_count": 16,
      "outputs": [
        {
          "output_type": "stream",
          "name": "stdout",
          "text": [
            "Dr. Kaulfuss's room is overflowing!\n"
          ]
        }
      ]
    },
    {
      "cell_type": "markdown",
      "metadata": {
        "id": "k4HhhrgI7r0a"
      },
      "source": [
        "When using the `==` operator to check if something is equal, it is really really really important that you use `==` and not `=`. In Python, a single `=` in is interpretted as assigning a value to a variable, not checking if something is equal.\n",
        "\n",
        "Try using `==` in the code block below. Don't be afraid to ask for help!\n"
      ]
    },
    {
      "cell_type": "code",
      "metadata": {
        "id": "ImWSfqzt9CS7",
        "colab": {
          "base_uri": "https://localhost:8080/"
        },
        "outputId": "fb1415e8-9d25-4d74-eaf8-6de74f1cacbf"
      },
      "source": [
        "num = 8   # You can adjust this number later to test if your if/else statement works for all circumstances :)\n",
        "\n",
        "# Add in an if/else statement so that \"You guessed my number!\" only prints when num equals 8. Otherwise, it should say that the number was not guessed.\n",
        "### YOUR CODE HERE ### \n",
        "if num == 8:  \n",
        "    print(\"You guessed my number!\")\n",
        "else: \n",
        "    print(\"You didn't guess my number.\")"
      ],
      "execution_count": 17,
      "outputs": [
        {
          "output_type": "stream",
          "name": "stdout",
          "text": [
            "You guessed my number!\n"
          ]
        }
      ]
    },
    {
      "cell_type": "markdown",
      "metadata": {
        "id": "DORrmo19tIWQ"
      },
      "source": [
        "### Using Elif\n",
        "\n",
        "What if we have more than just two possible outcomes in our conditionals? We can add something called **elif** in our code, which is short for \"else if\". \n",
        "\n",
        "Elif allows us to add an other condition to look at if the first condition was false. \n",
        "\n",
        "In our code, \"elif\" goes between the \"if...\" and the \"else...\". \"Else\" goes at the very end after \"elif\". If something doesn't satify the \"if\" or the \"elif\", \"else\" catches it. \n"
      ]
    },
    {
      "cell_type": "markdown",
      "metadata": {
        "id": "ki94Snsmk4dQ"
      },
      "source": [
        "To help illustrate this, here is an example using English instead of Python:\n",
        "\n",
        "**If** it is snowing, we will build a snowman. **Else, if** it is sunny, we will go to the beach. **Else, if** it is raining, we will stay inside and do board games. **Else**, the weather won't affect what we do.\n",
        "\n",
        "Note that we aren't limited to only using one elif. We can use as many as we want. See below for an example on how elif statements can be used:"
      ]
    },
    {
      "cell_type": "code",
      "metadata": {
        "colab": {
          "base_uri": "https://localhost:8080/"
        },
        "id": "HJoy76sqlhOf",
        "outputId": "fe748970-574d-447d-80e2-1f41c76bf4d1"
      },
      "source": [
        "club_members = 85\n",
        "\n",
        "if club_members < 35:\n",
        "  print(\"Everyone can fit in Dr. Kaulfuss's room\")\n",
        "elif club_members < 70:   # On this line, We don't have to say that club_members also be > 35 because this line is only reached if the previous condition was false\n",
        "  print(\"We will use Dr. Kaulfuss's room and Mr. Fox's room\")\n",
        "elif club_members < 105:\n",
        "  print(\"We will use Dr. Kaulfuss's room, Mr. Fox's room, and Mrs. Laird's room\")\n",
        "else:\n",
        "  print(\"So sorry, we ran out of space.\")"
      ],
      "execution_count": 18,
      "outputs": [
        {
          "output_type": "stream",
          "name": "stdout",
          "text": [
            "We will use Dr. Kaulfuss's room, Mr. Fox's room, and Mrs. Laird's room\n"
          ]
        }
      ]
    },
    {
      "cell_type": "code",
      "metadata": {
        "id": "YrCpNQPECPZp"
      },
      "source": [
        "# Make up a random scenario on your own and practice creating an if statement with at least 3 different outcomes.\n",
        "\n",
        "### YOUR CODE HERE ###\n",
        "\n",
        "# There are many rights ways to approach this task. To check if you did it correctly, it should:\n",
        "## 1) Run without bringing an error message\n",
        "## 2) You should be able to adjust the value assigned to the variable and then run the conditional again to see if it works on all scenarios"
      ],
      "execution_count": 19,
      "outputs": []
    },
    {
      "cell_type": "markdown",
      "metadata": {
        "id": "sSht1HzSQJdn"
      },
      "source": [
        "## Lists\n",
        "\n",
        "Okay, so now, we will move on from Conditionals and start exploring Lists.\n",
        "\n",
        "Sometimes, we want to store many different things in just one single variable. This is when lists come in handy!"
      ]
    },
    {
      "cell_type": "markdown",
      "metadata": {
        "id": "YKWBRIoeC2EA"
      },
      "source": [
        "In Python, we use the square brackets `[]` to indicate that we're using a list."
      ]
    },
    {
      "cell_type": "code",
      "metadata": {
        "id": "WUeq84uACcXv"
      },
      "source": [
        "# The following is a list in Python:\n",
        "things_in_pencil_pouch = [\"pencil\", \"blue pen\", \"black pen\", \"eraser\", \"white out\"]"
      ],
      "execution_count": 21,
      "outputs": []
    },
    {
      "cell_type": "code",
      "metadata": {
        "id": "zT5HBPDtDAi6"
      },
      "source": [
        "# Lists can also be a mixture of multiple data types\n",
        "random_list = [\"pencil\", 4.55, \"something else\", 2, \"yay\"]"
      ],
      "execution_count": 22,
      "outputs": []
    },
    {
      "cell_type": "markdown",
      "metadata": {
        "id": "EE-dcxV9H6E1"
      },
      "source": [
        "Lists can sometimes be very long and complex. In cases like these, what if we want to know if something is in the list or not? We can use the operator `in`:"
      ]
    },
    {
      "cell_type": "code",
      "metadata": {
        "colab": {
          "base_uri": "https://localhost:8080/"
        },
        "id": "wpo-TpHaH4Dh",
        "outputId": "c9665adb-295f-4a4b-d57a-b533056057b8"
      },
      "source": [
        "things_in_pencil_pouch = [\"pencil\", \"blue pen\", \"black pen\", \"eraser\", \"white out\", \"red marker\", \"green marker\", \"blue marker\", \"yellow marker\", \"ruler\", \"compass\", \"sticky notes\"]\n",
        "\n",
        "if \"blue pen\" in things_in_pencil_pouch:\n",
        "  print(\"This object is in the pencil pouch!\")"
      ],
      "execution_count": 23,
      "outputs": [
        {
          "output_type": "stream",
          "name": "stdout",
          "text": [
            "This object is in the pencil pouch!\n"
          ]
        }
      ]
    },
    {
      "cell_type": "markdown",
      "metadata": {
        "id": "LAirqqDKImuh"
      },
      "source": [
        "Time to practice!"
      ]
    },
    {
      "cell_type": "code",
      "metadata": {
        "id": "oyjb9WpgDb9z",
        "colab": {
          "base_uri": "https://localhost:8080/"
        },
        "outputId": "f0c881f5-202b-482b-c01d-a01a6467f8fc"
      },
      "source": [
        "# Write your own list below and title it practice_list so that if you run the conditional below, the print statement prints\n",
        "\n",
        "### YOUR CODE HERE ###\n",
        "practice_list = [1, 3, 4, 7, 23, 42, 46, 77]\n",
        "\n",
        "x = 42\n",
        "if x in practice_list:\n",
        "  print(\"The value of x was found in your list.\")"
      ],
      "execution_count": 24,
      "outputs": [
        {
          "output_type": "stream",
          "name": "stdout",
          "text": [
            "The value of x was found in your list.\n"
          ]
        }
      ]
    },
    {
      "cell_type": "markdown",
      "metadata": {
        "id": "4agTX3VRJ203"
      },
      "source": [
        "### Indexing into a list\n",
        "\n",
        "What if we wanted to get a specific **element** of a list? We can do the following:"
      ]
    },
    {
      "cell_type": "code",
      "metadata": {
        "id": "wZwBL9fTKN-g",
        "colab": {
          "base_uri": "https://localhost:8080/"
        },
        "outputId": "13408e53-c9a9-4032-afe0-4e32c83bfc0a"
      },
      "source": [
        "some_list = ['a', 'b', 'c']\n",
        "print(some_list[1])\n",
        "\n",
        "# What do you expect this to print?\n",
        "# If this doesn't make sense, look at the explanation below."
      ],
      "execution_count": 27,
      "outputs": [
        {
          "output_type": "stream",
          "name": "stdout",
          "text": [
            "b\n"
          ]
        }
      ]
    },
    {
      "cell_type": "markdown",
      "metadata": {
        "id": "rYah0sMUKSww"
      },
      "source": [
        "In Python, we actually start counting from 0, not 1. So the \"first\" element of the list would be `some_list[0]`. The number that we use is called the **index** of the element. (So element 'a' would have the index of 0.)"
      ]
    },
    {
      "cell_type": "code",
      "metadata": {
        "id": "zM6ZxKl5Kdwe",
        "colab": {
          "base_uri": "https://localhost:8080/"
        },
        "outputId": "887a396c-8ffc-47b1-98d1-66f3d682f900"
      },
      "source": [
        "# Print the 'e' from the list using indexing\n",
        "random_list = [32, 51, 'blob', 'e','something']\n",
        "### YOUR CODE HERE ###\n",
        "print(random_list[3])"
      ],
      "execution_count": 29,
      "outputs": [
        {
          "output_type": "stream",
          "name": "stdout",
          "text": [
            "e\n"
          ]
        }
      ]
    },
    {
      "cell_type": "markdown",
      "metadata": {
        "id": "RIeXLhUGtaYR"
      },
      "source": [
        "### Adding to, Removing from, and Modifying a List\n",
        "\n",
        "We will now look into how we can add data to a list, remove data from a list, or modify data in a list."
      ]
    },
    {
      "cell_type": "markdown",
      "metadata": {
        "id": "2g1sZjgzuqUw"
      },
      "source": [
        "To add data to a list:"
      ]
    },
    {
      "cell_type": "code",
      "metadata": {
        "colab": {
          "base_uri": "https://localhost:8080/"
        },
        "id": "TraqlNgjtoCA",
        "outputId": "98991787-dd3b-40fb-efa6-d513fc59ca3f"
      },
      "source": [
        "# We will start with an empty list\n",
        "list = []\n",
        "\n",
        "# Adding .append() adds something to the list\n",
        "list.append(\"pineapples\")\n",
        "list.append(\"oranges\")\n",
        "\n",
        "# To check that both pieces of data were added successfully\n",
        "print(list)"
      ],
      "execution_count": 30,
      "outputs": [
        {
          "output_type": "stream",
          "name": "stdout",
          "text": [
            "['pineapples', 'oranges']\n"
          ]
        }
      ]
    },
    {
      "cell_type": "code",
      "metadata": {
        "colab": {
          "base_uri": "https://localhost:8080/"
        },
        "id": "zNL-g4Se1RwG",
        "outputId": "ed9d2c50-1241-4432-ddec-3beb1b84cdc7"
      },
      "source": [
        "# But what if we wanted to insert data into the middle of a list?\n",
        "# We can specify the index we want to insert the data in:\n",
        "\n",
        "list = [\"pineapples\", \"oranges\"]\n",
        "list.insert(1, \"dragon fruit\") \n",
        "\n",
        "print(list) # Note that dragon fruit is inserted to the position with an index of 1"
      ],
      "execution_count": 31,
      "outputs": [
        {
          "output_type": "stream",
          "name": "stdout",
          "text": [
            "['pineapples', 'dragon fruit', 'oranges']\n"
          ]
        }
      ]
    },
    {
      "cell_type": "markdown",
      "metadata": {
        "id": "b2-e1UFAuuOC"
      },
      "source": [
        "To remove data from a list, there are many methods:"
      ]
    },
    {
      "cell_type": "code",
      "metadata": {
        "colab": {
          "base_uri": "https://localhost:8080/"
        },
        "id": "ZlTqeEAhufIJ",
        "outputId": "a8c96ca5-5224-4898-ef10-6176ca69e996"
      },
      "source": [
        "# Method 1\n",
        "list1 = [\"pineapples\", \"apples\", \"oranges\", \"mangos\"]\n",
        "list1.remove(\"apples\")\n",
        "print(\"Applying method 1 to list1:\", list1)\n",
        "\n",
        "# Method 2 removes the element with the specific index\n",
        "list2 = [\"water\", \"apple juice\", \"grape juice\", \"soda\"]\n",
        "list2.pop(1)    # As a reminder, in Python, we start counting from 0\n",
        "print(\"Applying method 2 to list2:\", list2)\n",
        "\n",
        "# If you use method 2 and don't give an index, it automatically removes the last element of the list\n",
        "list3 = [\"Paris\", \"New York City\", \"last element\"]\n",
        "list3.pop()\n",
        "print(\"Applying method 2 to list3 and not giving an index:\", list3)\n"
      ],
      "execution_count": 32,
      "outputs": [
        {
          "output_type": "stream",
          "name": "stdout",
          "text": [
            "Applying method 1 to list1: ['pineapples', 'oranges', 'mangos']\n",
            "Applying method 2 to list2: ['water', 'grape juice', 'soda']\n",
            "Applying method 2 to list3 and not giving an index: ['Paris', 'New York City']\n"
          ]
        }
      ]
    },
    {
      "cell_type": "markdown",
      "metadata": {
        "id": "PGhY0Yj45777"
      },
      "source": [
        "To modify an element in a list:"
      ]
    },
    {
      "cell_type": "code",
      "metadata": {
        "colab": {
          "base_uri": "https://localhost:8080/"
        },
        "id": "pV63Pcoz6Bby",
        "outputId": "d3d24e64-76ec-4dc0-d1cc-5a50e594ed2e"
      },
      "source": [
        "# We will start with a random list\n",
        "list_states = [\"North Carolina\", \"California\", \"New York\", \"Florida\", \"Ohio\"]\n",
        "\n",
        "# We will use indexing to modify an element\n",
        "list_states[1] = \"South Carolina\" # This replaces the element in the list with an index of 1 with South Carolina\n",
        "print(list_states) \n"
      ],
      "execution_count": 33,
      "outputs": [
        {
          "output_type": "stream",
          "name": "stdout",
          "text": [
            "['North Carolina', 'South Carolina', 'New York', 'Florida', 'Ohio']\n"
          ]
        }
      ]
    },
    {
      "cell_type": "markdown",
      "metadata": {
        "id": "BV1Kn8uo7dh8"
      },
      "source": [
        "Congratulations!!! You made it to the end of your second Python lesson. Remember that this is a condensed (and intense) course, so you are already doing very well in it if you made it this far. \n",
        "\n",
        "If there is anything you are unsure about, you should ask! We will continue building off of what we've learned, so it's important that you understand what we've learned.\n",
        "\n",
        "And don't forget to practice, practice, practice!"
      ]
    }
  ]
}