{
  "nbformat": 4,
  "nbformat_minor": 0,
  "metadata": {
    "colab": {
      "provenance": []
    },
    "kernelspec": {
      "name": "python3",
      "display_name": "Python 3"
    },
    "language_info": {
      "name": "python"
    }
  },
  "cells": [
    {
      "cell_type": "markdown",
      "metadata": {
        "id": "8fjLS0e0SjRX"
      },
      "source": [
        "# Introduction to Python: Part 4\n",
        "\n",
        "\n",
        "Hello! Welcome to the bonus lesson!\n",
        "\n",
        "Congratulations on completing the three previous lessons! You went over the basics of Python programming (hopefully you've done some practice afterwards), and in this lesson, we will cover an API known as Pandas! Pandas is used for data analysis which is very important in machine learning. We will actually be using Pandas for a lot of our projects.\n",
        "\n",
        "If you already know how to use Pandas, it is alright to skip this crash course! And if you are struggling on any of these concepts, make sure to either ask someone for help or find explanations online.\n",
        "\n",
        "And as always, to get started, copy this file into Deepnote and get right to work! :)"
      ]
    },
    {
      "cell_type": "markdown",
      "metadata": {
        "id": "IDNz636mQKJq"
      },
      "source": [
        "## What is Pandas?\n",
        "\n",
        "Pandas is an open-source Python package which allows you to analyze, visualize, and manipulate data efficiently."
      ]
    },
    {
      "cell_type": "markdown",
      "metadata": {
        "id": "SZrPhq9aKiUi"
      },
      "source": [
        "\n",
        "Some things Pandas is used for:\n",
        "\n",
        "\n",
        "*   A fast and efficient DataFrame object for data manipulation with integrated indexing\n",
        "\n",
        "*   Tools for reading and writing data between in-memory data structures and different formats: CSV and text files, Microsoft Excel, SQL databases, and the fast HDF5 format\n",
        "*   Intelligent label-based slicing, fancy indexing, and subsetting of large data sets\n",
        "\n",
        "\n",
        "*   Flexible reshaping and pivoting of data sets\n",
        "\n",
        "Let's first get started with lists and DataFrames.\n",
        "\n",
        "\n"
      ]
    },
    {
      "cell_type": "markdown",
      "metadata": {
        "id": "2zjwjtmPQMT9"
      },
      "source": [
        "## Turning a list into a DataFrame\n",
        "\n",
        "First off, import this notebook into Deepnote. On the right side of your screen, there should be an option to import a file.\n",
        "\n",
        "What is a DataFrame? well, DataFrames let you store tabular data in Python.\n",
        "It lets you easily store and manipulate tabular data like rows and columns. Let's do some practice with lists."
      ]
    },
    {
      "cell_type": "code",
      "metadata": {
        "colab": {
          "base_uri": "https://localhost:8080/"
        },
        "id": "XbVDBe3KZj6i",
        "outputId": "0fe8698f-3901-4ea3-8551-6a2717f6b7d1"
      },
      "source": [
        "my_list = [1,2,3,4,5]\n",
        "list_df = pd.DataFrame(my_list) #The .dataFrame() function is for creating a DataFrame through a list.\n",
        "print(list_df)\n",
        "print(\"###########\")\n",
        "my_better_list_df = pd.DataFrame(my_list, columns=['Number']) #Columns[] will give headers to your list's DataFrame\n",
        "print(my_better_list_df)"
      ],
      "execution_count": null,
      "outputs": [
        {
          "output_type": "stream",
          "name": "stdout",
          "text": [
            "   0\n",
            "0  1\n",
            "1  2\n",
            "2  3\n",
            "3  4\n",
            "4  5\n",
            "###########\n",
            "   Number\n",
            "0       1\n",
            "1       2\n",
            "2       3\n",
            "3       4\n",
            "4       5\n"
          ]
        }
      ]
    },
    {
      "cell_type": "markdown",
      "source": [
        "## Coding Challenge #1\n",
        "In this coding challenge, make a df out of the data and give each column a header saying 'Name' and 'Age'"
      ],
      "metadata": {
        "id": "yTuzFyzmpkkE"
      }
    },
    {
      "cell_type": "code",
      "metadata": {
        "id": "_wj_WJcbGOpX",
        "colab": {
          "base_uri": "https://localhost:8080/"
        },
        "outputId": "5730c31e-f434-4a0a-ce87-4dc091c8b468"
      },
      "source": [
        "data = [['Dhar',32], ['Alice', 26], ['Alec', 45], ['Bob', 1], ['Stewart', 999]] \n",
        "\n",
        "##YOUR CODE HERE##\n"
      ],
      "execution_count": null,
      "outputs": [
        {
          "output_type": "stream",
          "name": "stdout",
          "text": [
            "      Name  Age\n",
            "0     Dhar   32\n",
            "1    Alice   26\n",
            "2     Alec   45\n",
            "3      Bob    1\n",
            "4  Stewart  999\n"
          ]
        }
      ]
    },
    {
      "cell_type": "markdown",
      "source": [
        "\n",
        "\n",
        "Now, let's pull up a CSV file and get to work. Go to this link: https://drive.google.com/file/d/1PAgteYSlOd8gWm-3PRYecXVE850qm0qU/view?usp=sharing and download the CSV file titled `addresses`\n",
        "\n",
        "Pandas is used specifically for tabular-style data, so We will mostly be using it to read CSV data sets. Let's get started!\n",
        "\n",
        "After downloading the CSV file, add it to the `Files` tab on the top right of Deepnote.\n"
      ],
      "metadata": {
        "id": "YT5po2AclXRy"
      }
    },
    {
      "cell_type": "code",
      "metadata": {
        "colab": {
          "base_uri": "https://localhost:8080/",
          "height": 56
        },
        "id": "aQ1c9T9aLSKS",
        "outputId": "c9d29968-064e-4774-e64c-ea89c725bedf"
      },
      "source": [
        "import pandas as pd # This is how you bring pandas into your code. There is no need to install it because it is already preinstalled!\n",
        "\n",
        "\n",
        "## IGNORE THIS CODE UNLESS IN COLAB ##\n",
        "#from google.colab import files\n",
        "#uploaded = files.upload()"
      ],
      "execution_count": null,
      "outputs": [
        {
          "output_type": "display_data",
          "data": {
            "text/plain": [
              "<IPython.core.display.HTML object>"
            ],
            "text/html": [
              "\n",
              "     <input type=\"file\" id=\"files-655a8167-c14b-4fdd-9dbf-0f221d5a0721\" name=\"files[]\" multiple disabled\n",
              "        style=\"border:none\" />\n",
              "     <output id=\"result-655a8167-c14b-4fdd-9dbf-0f221d5a0721\">\n",
              "      Upload widget is only available when the cell has been executed in the\n",
              "      current browser session. Please rerun this cell to enable.\n",
              "      </output>\n",
              "      <script>// Copyright 2017 Google LLC\n",
              "//\n",
              "// Licensed under the Apache License, Version 2.0 (the \"License\");\n",
              "// you may not use this file except in compliance with the License.\n",
              "// You may obtain a copy of the License at\n",
              "//\n",
              "//      http://www.apache.org/licenses/LICENSE-2.0\n",
              "//\n",
              "// Unless required by applicable law or agreed to in writing, software\n",
              "// distributed under the License is distributed on an \"AS IS\" BASIS,\n",
              "// WITHOUT WARRANTIES OR CONDITIONS OF ANY KIND, either express or implied.\n",
              "// See the License for the specific language governing permissions and\n",
              "// limitations under the License.\n",
              "\n",
              "/**\n",
              " * @fileoverview Helpers for google.colab Python module.\n",
              " */\n",
              "(function(scope) {\n",
              "function span(text, styleAttributes = {}) {\n",
              "  const element = document.createElement('span');\n",
              "  element.textContent = text;\n",
              "  for (const key of Object.keys(styleAttributes)) {\n",
              "    element.style[key] = styleAttributes[key];\n",
              "  }\n",
              "  return element;\n",
              "}\n",
              "\n",
              "// Max number of bytes which will be uploaded at a time.\n",
              "const MAX_PAYLOAD_SIZE = 100 * 1024;\n",
              "\n",
              "function _uploadFiles(inputId, outputId) {\n",
              "  const steps = uploadFilesStep(inputId, outputId);\n",
              "  const outputElement = document.getElementById(outputId);\n",
              "  // Cache steps on the outputElement to make it available for the next call\n",
              "  // to uploadFilesContinue from Python.\n",
              "  outputElement.steps = steps;\n",
              "\n",
              "  return _uploadFilesContinue(outputId);\n",
              "}\n",
              "\n",
              "// This is roughly an async generator (not supported in the browser yet),\n",
              "// where there are multiple asynchronous steps and the Python side is going\n",
              "// to poll for completion of each step.\n",
              "// This uses a Promise to block the python side on completion of each step,\n",
              "// then passes the result of the previous step as the input to the next step.\n",
              "function _uploadFilesContinue(outputId) {\n",
              "  const outputElement = document.getElementById(outputId);\n",
              "  const steps = outputElement.steps;\n",
              "\n",
              "  const next = steps.next(outputElement.lastPromiseValue);\n",
              "  return Promise.resolve(next.value.promise).then((value) => {\n",
              "    // Cache the last promise value to make it available to the next\n",
              "    // step of the generator.\n",
              "    outputElement.lastPromiseValue = value;\n",
              "    return next.value.response;\n",
              "  });\n",
              "}\n",
              "\n",
              "/**\n",
              " * Generator function which is called between each async step of the upload\n",
              " * process.\n",
              " * @param {string} inputId Element ID of the input file picker element.\n",
              " * @param {string} outputId Element ID of the output display.\n",
              " * @return {!Iterable<!Object>} Iterable of next steps.\n",
              " */\n",
              "function* uploadFilesStep(inputId, outputId) {\n",
              "  const inputElement = document.getElementById(inputId);\n",
              "  inputElement.disabled = false;\n",
              "\n",
              "  const outputElement = document.getElementById(outputId);\n",
              "  outputElement.innerHTML = '';\n",
              "\n",
              "  const pickedPromise = new Promise((resolve) => {\n",
              "    inputElement.addEventListener('change', (e) => {\n",
              "      resolve(e.target.files);\n",
              "    });\n",
              "  });\n",
              "\n",
              "  const cancel = document.createElement('button');\n",
              "  inputElement.parentElement.appendChild(cancel);\n",
              "  cancel.textContent = 'Cancel upload';\n",
              "  const cancelPromise = new Promise((resolve) => {\n",
              "    cancel.onclick = () => {\n",
              "      resolve(null);\n",
              "    };\n",
              "  });\n",
              "\n",
              "  // Wait for the user to pick the files.\n",
              "  const files = yield {\n",
              "    promise: Promise.race([pickedPromise, cancelPromise]),\n",
              "    response: {\n",
              "      action: 'starting',\n",
              "    }\n",
              "  };\n",
              "\n",
              "  cancel.remove();\n",
              "\n",
              "  // Disable the input element since further picks are not allowed.\n",
              "  inputElement.disabled = true;\n",
              "\n",
              "  if (!files) {\n",
              "    return {\n",
              "      response: {\n",
              "        action: 'complete',\n",
              "      }\n",
              "    };\n",
              "  }\n",
              "\n",
              "  for (const file of files) {\n",
              "    const li = document.createElement('li');\n",
              "    li.append(span(file.name, {fontWeight: 'bold'}));\n",
              "    li.append(span(\n",
              "        `(${file.type || 'n/a'}) - ${file.size} bytes, ` +\n",
              "        `last modified: ${\n",
              "            file.lastModifiedDate ? file.lastModifiedDate.toLocaleDateString() :\n",
              "                                    'n/a'} - `));\n",
              "    const percent = span('0% done');\n",
              "    li.appendChild(percent);\n",
              "\n",
              "    outputElement.appendChild(li);\n",
              "\n",
              "    const fileDataPromise = new Promise((resolve) => {\n",
              "      const reader = new FileReader();\n",
              "      reader.onload = (e) => {\n",
              "        resolve(e.target.result);\n",
              "      };\n",
              "      reader.readAsArrayBuffer(file);\n",
              "    });\n",
              "    // Wait for the data to be ready.\n",
              "    let fileData = yield {\n",
              "      promise: fileDataPromise,\n",
              "      response: {\n",
              "        action: 'continue',\n",
              "      }\n",
              "    };\n",
              "\n",
              "    // Use a chunked sending to avoid message size limits. See b/62115660.\n",
              "    let position = 0;\n",
              "    do {\n",
              "      const length = Math.min(fileData.byteLength - position, MAX_PAYLOAD_SIZE);\n",
              "      const chunk = new Uint8Array(fileData, position, length);\n",
              "      position += length;\n",
              "\n",
              "      const base64 = btoa(String.fromCharCode.apply(null, chunk));\n",
              "      yield {\n",
              "        response: {\n",
              "          action: 'append',\n",
              "          file: file.name,\n",
              "          data: base64,\n",
              "        },\n",
              "      };\n",
              "\n",
              "      let percentDone = fileData.byteLength === 0 ?\n",
              "          100 :\n",
              "          Math.round((position / fileData.byteLength) * 100);\n",
              "      percent.textContent = `${percentDone}% done`;\n",
              "\n",
              "    } while (position < fileData.byteLength);\n",
              "  }\n",
              "\n",
              "  // All done.\n",
              "  yield {\n",
              "    response: {\n",
              "      action: 'complete',\n",
              "    }\n",
              "  };\n",
              "}\n",
              "\n",
              "scope.google = scope.google || {};\n",
              "scope.google.colab = scope.google.colab || {};\n",
              "scope.google.colab._files = {\n",
              "  _uploadFiles,\n",
              "  _uploadFilesContinue,\n",
              "};\n",
              "})(self);\n",
              "</script> "
            ]
          },
          "metadata": {}
        },
        {
          "output_type": "stream",
          "name": "stdout",
          "text": [
            "Saving addresses (1).csv to addresses (1).csv\n"
          ]
        }
      ]
    },
    {
      "cell_type": "markdown",
      "source": [
        "The `read_csv` function is used to read data from a CSV file. By default, it assumes that the fields are comma seperated. The first parameter in the function is the name of the CSV file the code will read. After uploading the file, it should be called `addresses.csv` so title it that. If the CSV file is labeled something else, enter in that name directly."
      ],
      "metadata": {
        "id": "HNEjmDglFMc4"
      }
    },
    {
      "cell_type": "code",
      "source": [
        "\n",
        "new_df = pd.read_csv('addresses (1).csv', names=[\"First Name\", \"Last Name\", \"Address\", \"Town\", \"State\", \"Zip Code\"])\n",
        "#Since the CSV file does not contain any headers, we can give names to those headers by creating a names=[] array! (It is just like columns=[])\n",
        "new_df[:5] #This is to retrieve the first 5 columns\n"
      ],
      "metadata": {
        "colab": {
          "base_uri": "https://localhost:8080/",
          "height": 206
        },
        "id": "OdzBElZQEvSc",
        "outputId": "84b640a5-f4e1-426f-b57b-fa0d041e29fe"
      },
      "execution_count": null,
      "outputs": [
        {
          "output_type": "execute_result",
          "data": {
            "text/plain": [
              "      First Name Last Name                           Address       Town State  \\\n",
              "0           John       Doe                 120 jefferson st.  Riverside    NJ   \n",
              "1           Jack  McGinnis                      220 hobo Av.      Phila    PA   \n",
              "2  John \"Da Man\"    Repici                 120 Jefferson St.  Riverside    NJ   \n",
              "3        Stephen     Tyler  7452 Terrace \"At the Plaza\" road   SomeTown    SD   \n",
              "4            NaN  Blankman                               NaN   SomeTown    SD   \n",
              "\n",
              "   Zip Code  \n",
              "0      8075  \n",
              "1      9119  \n",
              "2      8075  \n",
              "3     91234  \n",
              "4       298  "
            ],
            "text/html": [
              "\n",
              "  <div id=\"df-93dad8b7-f962-41d7-aec8-30527df9f1e7\">\n",
              "    <div class=\"colab-df-container\">\n",
              "      <div>\n",
              "<style scoped>\n",
              "    .dataframe tbody tr th:only-of-type {\n",
              "        vertical-align: middle;\n",
              "    }\n",
              "\n",
              "    .dataframe tbody tr th {\n",
              "        vertical-align: top;\n",
              "    }\n",
              "\n",
              "    .dataframe thead th {\n",
              "        text-align: right;\n",
              "    }\n",
              "</style>\n",
              "<table border=\"1\" class=\"dataframe\">\n",
              "  <thead>\n",
              "    <tr style=\"text-align: right;\">\n",
              "      <th></th>\n",
              "      <th>First Name</th>\n",
              "      <th>Last Name</th>\n",
              "      <th>Address</th>\n",
              "      <th>Town</th>\n",
              "      <th>State</th>\n",
              "      <th>Zip Code</th>\n",
              "    </tr>\n",
              "  </thead>\n",
              "  <tbody>\n",
              "    <tr>\n",
              "      <th>0</th>\n",
              "      <td>John</td>\n",
              "      <td>Doe</td>\n",
              "      <td>120 jefferson st.</td>\n",
              "      <td>Riverside</td>\n",
              "      <td>NJ</td>\n",
              "      <td>8075</td>\n",
              "    </tr>\n",
              "    <tr>\n",
              "      <th>1</th>\n",
              "      <td>Jack</td>\n",
              "      <td>McGinnis</td>\n",
              "      <td>220 hobo Av.</td>\n",
              "      <td>Phila</td>\n",
              "      <td>PA</td>\n",
              "      <td>9119</td>\n",
              "    </tr>\n",
              "    <tr>\n",
              "      <th>2</th>\n",
              "      <td>John \"Da Man\"</td>\n",
              "      <td>Repici</td>\n",
              "      <td>120 Jefferson St.</td>\n",
              "      <td>Riverside</td>\n",
              "      <td>NJ</td>\n",
              "      <td>8075</td>\n",
              "    </tr>\n",
              "    <tr>\n",
              "      <th>3</th>\n",
              "      <td>Stephen</td>\n",
              "      <td>Tyler</td>\n",
              "      <td>7452 Terrace \"At the Plaza\" road</td>\n",
              "      <td>SomeTown</td>\n",
              "      <td>SD</td>\n",
              "      <td>91234</td>\n",
              "    </tr>\n",
              "    <tr>\n",
              "      <th>4</th>\n",
              "      <td>NaN</td>\n",
              "      <td>Blankman</td>\n",
              "      <td>NaN</td>\n",
              "      <td>SomeTown</td>\n",
              "      <td>SD</td>\n",
              "      <td>298</td>\n",
              "    </tr>\n",
              "  </tbody>\n",
              "</table>\n",
              "</div>\n",
              "      <button class=\"colab-df-convert\" onclick=\"convertToInteractive('df-93dad8b7-f962-41d7-aec8-30527df9f1e7')\"\n",
              "              title=\"Convert this dataframe to an interactive table.\"\n",
              "              style=\"display:none;\">\n",
              "        \n",
              "  <svg xmlns=\"http://www.w3.org/2000/svg\" height=\"24px\"viewBox=\"0 0 24 24\"\n",
              "       width=\"24px\">\n",
              "    <path d=\"M0 0h24v24H0V0z\" fill=\"none\"/>\n",
              "    <path d=\"M18.56 5.44l.94 2.06.94-2.06 2.06-.94-2.06-.94-.94-2.06-.94 2.06-2.06.94zm-11 1L8.5 8.5l.94-2.06 2.06-.94-2.06-.94L8.5 2.5l-.94 2.06-2.06.94zm10 10l.94 2.06.94-2.06 2.06-.94-2.06-.94-.94-2.06-.94 2.06-2.06.94z\"/><path d=\"M17.41 7.96l-1.37-1.37c-.4-.4-.92-.59-1.43-.59-.52 0-1.04.2-1.43.59L10.3 9.45l-7.72 7.72c-.78.78-.78 2.05 0 2.83L4 21.41c.39.39.9.59 1.41.59.51 0 1.02-.2 1.41-.59l7.78-7.78 2.81-2.81c.8-.78.8-2.07 0-2.86zM5.41 20L4 18.59l7.72-7.72 1.47 1.35L5.41 20z\"/>\n",
              "  </svg>\n",
              "      </button>\n",
              "      \n",
              "  <style>\n",
              "    .colab-df-container {\n",
              "      display:flex;\n",
              "      flex-wrap:wrap;\n",
              "      gap: 12px;\n",
              "    }\n",
              "\n",
              "    .colab-df-convert {\n",
              "      background-color: #E8F0FE;\n",
              "      border: none;\n",
              "      border-radius: 50%;\n",
              "      cursor: pointer;\n",
              "      display: none;\n",
              "      fill: #1967D2;\n",
              "      height: 32px;\n",
              "      padding: 0 0 0 0;\n",
              "      width: 32px;\n",
              "    }\n",
              "\n",
              "    .colab-df-convert:hover {\n",
              "      background-color: #E2EBFA;\n",
              "      box-shadow: 0px 1px 2px rgba(60, 64, 67, 0.3), 0px 1px 3px 1px rgba(60, 64, 67, 0.15);\n",
              "      fill: #174EA6;\n",
              "    }\n",
              "\n",
              "    [theme=dark] .colab-df-convert {\n",
              "      background-color: #3B4455;\n",
              "      fill: #D2E3FC;\n",
              "    }\n",
              "\n",
              "    [theme=dark] .colab-df-convert:hover {\n",
              "      background-color: #434B5C;\n",
              "      box-shadow: 0px 1px 3px 1px rgba(0, 0, 0, 0.15);\n",
              "      filter: drop-shadow(0px 1px 2px rgba(0, 0, 0, 0.3));\n",
              "      fill: #FFFFFF;\n",
              "    }\n",
              "  </style>\n",
              "\n",
              "      <script>\n",
              "        const buttonEl =\n",
              "          document.querySelector('#df-93dad8b7-f962-41d7-aec8-30527df9f1e7 button.colab-df-convert');\n",
              "        buttonEl.style.display =\n",
              "          google.colab.kernel.accessAllowed ? 'block' : 'none';\n",
              "\n",
              "        async function convertToInteractive(key) {\n",
              "          const element = document.querySelector('#df-93dad8b7-f962-41d7-aec8-30527df9f1e7');\n",
              "          const dataTable =\n",
              "            await google.colab.kernel.invokeFunction('convertToInteractive',\n",
              "                                                     [key], {});\n",
              "          if (!dataTable) return;\n",
              "\n",
              "          const docLinkHtml = 'Like what you see? Visit the ' +\n",
              "            '<a target=\"_blank\" href=https://colab.research.google.com/notebooks/data_table.ipynb>data table notebook</a>'\n",
              "            + ' to learn more about interactive tables.';\n",
              "          element.innerHTML = '';\n",
              "          dataTable['output_type'] = 'display_data';\n",
              "          await google.colab.output.renderOutput(dataTable, element);\n",
              "          const docLink = document.createElement('div');\n",
              "          docLink.innerHTML = docLinkHtml;\n",
              "          element.appendChild(docLink);\n",
              "        }\n",
              "      </script>\n",
              "    </div>\n",
              "  </div>\n",
              "  "
            ]
          },
          "metadata": {},
          "execution_count": 7
        }
      ]
    },
    {
      "cell_type": "markdown",
      "metadata": {
        "id": "T7jnj-BhE8dX"
      },
      "source": [
        "After running the code, you should see a nice chart with each person's name, address, town, state, and zip code. That's a good start, but we can do even more!\n"
      ]
    },
    {
      "cell_type": "code",
      "metadata": {
        "colab": {
          "base_uri": "https://localhost:8080/"
        },
        "id": "LSk9tAyScInd",
        "outputId": "2420c3d0-a1e1-48d2-a83b-ef9c2103c919"
      },
      "source": [
        "\n",
        "print(new_df) #This will print the dataset"
      ],
      "execution_count": null,
      "outputs": [
        {
          "output_type": "stream",
          "name": "stdout",
          "text": [
            "              First Name Last Name                           Address  \\\n",
            "0                   John       Doe                 120 jefferson st.   \n",
            "1                   Jack  McGinnis                      220 hobo Av.   \n",
            "2          John \"Da Man\"    Repici                 120 Jefferson St.   \n",
            "3                Stephen     Tyler  7452 Terrace \"At the Plaza\" road   \n",
            "4                    NaN  Blankman                               NaN   \n",
            "5  Joan \"the bone\", Anne       Jet               9th, at Terrace plc   \n",
            "\n",
            "          Town State  Zip Code  \n",
            "0    Riverside    NJ      8075  \n",
            "1        Phila    PA      9119  \n",
            "2    Riverside    NJ      8075  \n",
            "3     SomeTown    SD     91234  \n",
            "4     SomeTown    SD       298  \n",
            "5  Desert City    CO       123  \n"
          ]
        }
      ]
    },
    {
      "cell_type": "markdown",
      "source": [
        "Let's say we really do not like Jack McGinnis and want to kick him out. We can do that using `skiprows`\n"
      ],
      "metadata": {
        "id": "T99xkaWTrSmR"
      }
    },
    {
      "cell_type": "code",
      "source": [
        "better_df = pd.read_csv('addresses.csv', names=[\"First Name\", \"Last Name\", \"Address\", \"Town\", \"State\", \"Zip Code\"], skiprows=[1]) #Skip second row\n",
        "#FYI, skiprows=[] can take in multiple rows, so you can do skiprows=[0,1,2,3] for example. Try messing around with it.\n",
        "better_df.loc(1)\n",
        "print(better_df)\n"
      ],
      "metadata": {
        "colab": {
          "base_uri": "https://localhost:8080/"
        },
        "id": "7DUyBjd7rRWc",
        "outputId": "25ee688c-a266-49b2-b538-1d2e2fb4ae60"
      },
      "execution_count": null,
      "outputs": [
        {
          "output_type": "stream",
          "name": "stdout",
          "text": [
            "              First Name Last Name                           Address  \\\n",
            "0                   John       Doe                 120 jefferson st.   \n",
            "1          John \"Da Man\"    Repici                 120 Jefferson St.   \n",
            "2                Stephen     Tyler  7452 Terrace \"At the Plaza\" road   \n",
            "3                    NaN  Blankman                               NaN   \n",
            "4  Joan \"the bone\", Anne       Jet               9th, at Terrace plc   \n",
            "\n",
            "          Town State  Zip Code  \n",
            "0    Riverside    NJ      8075  \n",
            "1    Riverside    NJ      8075  \n",
            "2     SomeTown    SD     91234  \n",
            "3     SomeTown    SD       298  \n",
            "4  Desert City    CO       123  \n"
          ]
        }
      ]
    },
    {
      "cell_type": "markdown",
      "source": [
        "## Removing Columns/Rows\n",
        "\n",
        "To remove a column, we use the `df.pop(column-name)` method"
      ],
      "metadata": {
        "id": "rDVudPbsf-TG"
      }
    },
    {
      "cell_type": "code",
      "source": [
        "better_df.pop(\"Zip Code\")\n",
        "print(better_df)"
      ],
      "metadata": {
        "colab": {
          "base_uri": "https://localhost:8080/"
        },
        "id": "QE2FHsRCgLUZ",
        "outputId": "f2a4821b-64a0-4a51-e263-0abd4a4039e1"
      },
      "execution_count": null,
      "outputs": [
        {
          "output_type": "stream",
          "name": "stdout",
          "text": [
            "              First Name Last Name                           Address  \\\n",
            "0                   John       Doe                 120 jefferson st.   \n",
            "1          John \"Da Man\"    Repici                 120 Jefferson St.   \n",
            "2                Stephen     Tyler  7452 Terrace \"At the Plaza\" road   \n",
            "3                    NaN  Blankman                               NaN   \n",
            "4  Joan \"the bone\", Anne       Jet               9th, at Terrace plc   \n",
            "\n",
            "          Town State  \n",
            "0    Riverside    NJ  \n",
            "1    Riverside    NJ  \n",
            "2     SomeTown    SD  \n",
            "3     SomeTown    SD  \n",
            "4  Desert City    CO  \n"
          ]
        }
      ]
    },
    {
      "cell_type": "markdown",
      "source": [
        "To remove a row, we use `df.iloc[row-number]`"
      ],
      "metadata": {
        "id": "cAgOJjk2gjgg"
      }
    },
    {
      "cell_type": "code",
      "source": [
        "better_df.iloc[0:]\n",
        "print(better_df)"
      ],
      "metadata": {
        "colab": {
          "base_uri": "https://localhost:8080/"
        },
        "id": "G6Qdg9NDgq_5",
        "outputId": "62d3fc35-4bfb-4602-c6c6-05ad6815d3e8"
      },
      "execution_count": null,
      "outputs": [
        {
          "output_type": "stream",
          "name": "stdout",
          "text": [
            "              First Name Last Name                           Address  \\\n",
            "0                   John       Doe                 120 jefferson st.   \n",
            "1          John \"Da Man\"    Repici                 120 Jefferson St.   \n",
            "2                Stephen     Tyler  7452 Terrace \"At the Plaza\" road   \n",
            "3                    NaN  Blankman                               NaN   \n",
            "4  Joan \"the bone\", Anne       Jet               9th, at Terrace plc   \n",
            "\n",
            "          Town State  \n",
            "0    Riverside    NJ  \n",
            "1    Riverside    NJ  \n",
            "2     SomeTown    SD  \n",
            "3     SomeTown    SD  \n",
            "4  Desert City    CO  \n"
          ]
        }
      ]
    },
    {
      "cell_type": "markdown",
      "source": [
        "## Editing Columns\n",
        "\n",
        "Let's practice editing columns with a different dataset. Here is the dataset: https://drive.google.com/file/d/1qcZXxvgMEqcbzU40kYbm5YRlC_iMssQT/view \n",
        "Make sure to download it onto your PC and the Deepnote."
      ],
      "metadata": {
        "id": "U47epcPurrYl"
      }
    },
    {
      "cell_type": "code",
      "source": [
        "## IGNORE THIS CODE UNLESS IN COLAB ##\n",
        "#from google.colab import files\n",
        "#uploaded = files.upload()"
      ],
      "metadata": {
        "colab": {
          "base_uri": "https://localhost:8080/",
          "height": 74
        },
        "id": "xnDVfXTInZxv",
        "outputId": "ca226aae-6763-4dac-8b5b-817860390e4f"
      },
      "execution_count": null,
      "outputs": [
        {
          "output_type": "display_data",
          "data": {
            "text/plain": [
              "<IPython.core.display.HTML object>"
            ],
            "text/html": [
              "\n",
              "     <input type=\"file\" id=\"files-cdd56dd1-4aab-4190-a7d2-dd07240d5953\" name=\"files[]\" multiple disabled\n",
              "        style=\"border:none\" />\n",
              "     <output id=\"result-cdd56dd1-4aab-4190-a7d2-dd07240d5953\">\n",
              "      Upload widget is only available when the cell has been executed in the\n",
              "      current browser session. Please rerun this cell to enable.\n",
              "      </output>\n",
              "      <script>// Copyright 2017 Google LLC\n",
              "//\n",
              "// Licensed under the Apache License, Version 2.0 (the \"License\");\n",
              "// you may not use this file except in compliance with the License.\n",
              "// You may obtain a copy of the License at\n",
              "//\n",
              "//      http://www.apache.org/licenses/LICENSE-2.0\n",
              "//\n",
              "// Unless required by applicable law or agreed to in writing, software\n",
              "// distributed under the License is distributed on an \"AS IS\" BASIS,\n",
              "// WITHOUT WARRANTIES OR CONDITIONS OF ANY KIND, either express or implied.\n",
              "// See the License for the specific language governing permissions and\n",
              "// limitations under the License.\n",
              "\n",
              "/**\n",
              " * @fileoverview Helpers for google.colab Python module.\n",
              " */\n",
              "(function(scope) {\n",
              "function span(text, styleAttributes = {}) {\n",
              "  const element = document.createElement('span');\n",
              "  element.textContent = text;\n",
              "  for (const key of Object.keys(styleAttributes)) {\n",
              "    element.style[key] = styleAttributes[key];\n",
              "  }\n",
              "  return element;\n",
              "}\n",
              "\n",
              "// Max number of bytes which will be uploaded at a time.\n",
              "const MAX_PAYLOAD_SIZE = 100 * 1024;\n",
              "\n",
              "function _uploadFiles(inputId, outputId) {\n",
              "  const steps = uploadFilesStep(inputId, outputId);\n",
              "  const outputElement = document.getElementById(outputId);\n",
              "  // Cache steps on the outputElement to make it available for the next call\n",
              "  // to uploadFilesContinue from Python.\n",
              "  outputElement.steps = steps;\n",
              "\n",
              "  return _uploadFilesContinue(outputId);\n",
              "}\n",
              "\n",
              "// This is roughly an async generator (not supported in the browser yet),\n",
              "// where there are multiple asynchronous steps and the Python side is going\n",
              "// to poll for completion of each step.\n",
              "// This uses a Promise to block the python side on completion of each step,\n",
              "// then passes the result of the previous step as the input to the next step.\n",
              "function _uploadFilesContinue(outputId) {\n",
              "  const outputElement = document.getElementById(outputId);\n",
              "  const steps = outputElement.steps;\n",
              "\n",
              "  const next = steps.next(outputElement.lastPromiseValue);\n",
              "  return Promise.resolve(next.value.promise).then((value) => {\n",
              "    // Cache the last promise value to make it available to the next\n",
              "    // step of the generator.\n",
              "    outputElement.lastPromiseValue = value;\n",
              "    return next.value.response;\n",
              "  });\n",
              "}\n",
              "\n",
              "/**\n",
              " * Generator function which is called between each async step of the upload\n",
              " * process.\n",
              " * @param {string} inputId Element ID of the input file picker element.\n",
              " * @param {string} outputId Element ID of the output display.\n",
              " * @return {!Iterable<!Object>} Iterable of next steps.\n",
              " */\n",
              "function* uploadFilesStep(inputId, outputId) {\n",
              "  const inputElement = document.getElementById(inputId);\n",
              "  inputElement.disabled = false;\n",
              "\n",
              "  const outputElement = document.getElementById(outputId);\n",
              "  outputElement.innerHTML = '';\n",
              "\n",
              "  const pickedPromise = new Promise((resolve) => {\n",
              "    inputElement.addEventListener('change', (e) => {\n",
              "      resolve(e.target.files);\n",
              "    });\n",
              "  });\n",
              "\n",
              "  const cancel = document.createElement('button');\n",
              "  inputElement.parentElement.appendChild(cancel);\n",
              "  cancel.textContent = 'Cancel upload';\n",
              "  const cancelPromise = new Promise((resolve) => {\n",
              "    cancel.onclick = () => {\n",
              "      resolve(null);\n",
              "    };\n",
              "  });\n",
              "\n",
              "  // Wait for the user to pick the files.\n",
              "  const files = yield {\n",
              "    promise: Promise.race([pickedPromise, cancelPromise]),\n",
              "    response: {\n",
              "      action: 'starting',\n",
              "    }\n",
              "  };\n",
              "\n",
              "  cancel.remove();\n",
              "\n",
              "  // Disable the input element since further picks are not allowed.\n",
              "  inputElement.disabled = true;\n",
              "\n",
              "  if (!files) {\n",
              "    return {\n",
              "      response: {\n",
              "        action: 'complete',\n",
              "      }\n",
              "    };\n",
              "  }\n",
              "\n",
              "  for (const file of files) {\n",
              "    const li = document.createElement('li');\n",
              "    li.append(span(file.name, {fontWeight: 'bold'}));\n",
              "    li.append(span(\n",
              "        `(${file.type || 'n/a'}) - ${file.size} bytes, ` +\n",
              "        `last modified: ${\n",
              "            file.lastModifiedDate ? file.lastModifiedDate.toLocaleDateString() :\n",
              "                                    'n/a'} - `));\n",
              "    const percent = span('0% done');\n",
              "    li.appendChild(percent);\n",
              "\n",
              "    outputElement.appendChild(li);\n",
              "\n",
              "    const fileDataPromise = new Promise((resolve) => {\n",
              "      const reader = new FileReader();\n",
              "      reader.onload = (e) => {\n",
              "        resolve(e.target.result);\n",
              "      };\n",
              "      reader.readAsArrayBuffer(file);\n",
              "    });\n",
              "    // Wait for the data to be ready.\n",
              "    let fileData = yield {\n",
              "      promise: fileDataPromise,\n",
              "      response: {\n",
              "        action: 'continue',\n",
              "      }\n",
              "    };\n",
              "\n",
              "    // Use a chunked sending to avoid message size limits. See b/62115660.\n",
              "    let position = 0;\n",
              "    do {\n",
              "      const length = Math.min(fileData.byteLength - position, MAX_PAYLOAD_SIZE);\n",
              "      const chunk = new Uint8Array(fileData, position, length);\n",
              "      position += length;\n",
              "\n",
              "      const base64 = btoa(String.fromCharCode.apply(null, chunk));\n",
              "      yield {\n",
              "        response: {\n",
              "          action: 'append',\n",
              "          file: file.name,\n",
              "          data: base64,\n",
              "        },\n",
              "      };\n",
              "\n",
              "      let percentDone = fileData.byteLength === 0 ?\n",
              "          100 :\n",
              "          Math.round((position / fileData.byteLength) * 100);\n",
              "      percent.textContent = `${percentDone}% done`;\n",
              "\n",
              "    } while (position < fileData.byteLength);\n",
              "  }\n",
              "\n",
              "  // All done.\n",
              "  yield {\n",
              "    response: {\n",
              "      action: 'complete',\n",
              "    }\n",
              "  };\n",
              "}\n",
              "\n",
              "scope.google = scope.google || {};\n",
              "scope.google.colab = scope.google.colab || {};\n",
              "scope.google.colab._files = {\n",
              "  _uploadFiles,\n",
              "  _uploadFilesContinue,\n",
              "};\n",
              "})(self);\n",
              "</script> "
            ]
          },
          "metadata": {}
        },
        {
          "output_type": "stream",
          "name": "stdout",
          "text": [
            "Saving AllDetails.csv to AllDetails.csv\n"
          ]
        }
      ]
    },
    {
      "cell_type": "markdown",
      "source": [
        "This is how the DataFrame looks like when printed:"
      ],
      "metadata": {
        "id": "tGA5_GxDdZRT"
      }
    },
    {
      "cell_type": "code",
      "source": [
        "df = pd.read_csv(\"AllDetails.csv\")\n",
        "print(df)\n"
      ],
      "metadata": {
        "colab": {
          "base_uri": "https://localhost:8080/"
        },
        "id": "G89bivwecg2o",
        "outputId": "28820425-876c-4f06-c8f6-950b307816c0"
      },
      "execution_count": null,
      "outputs": [
        {
          "output_type": "stream",
          "name": "stdout",
          "text": [
            "   Sno  Regristation Number                     Name     RollNo Status\n",
            "0    1             11913907              Molly Singh  RK19TSA01      P\n",
            "1    2             11918698      Vaishnavi choudhary  RK19TSA02      P\n",
            "2    3             12000722            Animesh Singh  RK19TSA03      P\n",
            "3    4             12003178              Yash Panwar  RK19TSA04      P\n",
            "4    5             12005300           Kallem Kruthik  RK19TSA05      P\n",
            "5    6             11902981                DHAR MANN  RK19TSA06      P\n",
            "6    7             11902825  Bhimavarapu Pavan Reddy  RK19TSA07      P\n",
            "7    8             11902721         Mainam Siddhardh  RK19TSA08      P\n"
          ]
        }
      ]
    },
    {
      "cell_type": "markdown",
      "metadata": {
        "id": "rnRBRs2fFtWC"
      },
      "source": [
        "Let's say we want to edit the name of Molly Singh. To do that, we will use the `df.loc[]` method. `df.loc[]` takes in 2 inputs: column number and row name. Think of it as locating the point that corresponds to the correct X and Y values."
      ]
    },
    {
      "cell_type": "code",
      "source": [
        "df.loc[0, \"Name\"] = \"BOB JONES\"\n",
        "print(df)"
      ],
      "metadata": {
        "colab": {
          "base_uri": "https://localhost:8080/"
        },
        "id": "_Oqq5ppNdvcF",
        "outputId": "056c8516-62a9-4bbb-bbf1-23530868d3da"
      },
      "execution_count": null,
      "outputs": [
        {
          "output_type": "stream",
          "name": "stdout",
          "text": [
            "   Sno  Regristation Number                     Name     RollNo Status\n",
            "0    1             11913907                BOB JONES  RK19TSA01      A\n",
            "1    2             11918698      Vaishnavi choudhary  RK19TSA02      A\n",
            "2    3             12000722            Animesh Singh  RK19TSA03      A\n",
            "3    4             12003178              Yash Panwar  RK19TSA04      A\n",
            "4    5             12005300           Kallem Kruthik  RK19TSA05      A\n",
            "5    6             11902981                DHAR MANN  RK19TSA06      A\n",
            "6    7             11902825  Bhimavarapu Pavan Reddy  RK19TSA07      A\n",
            "7    8             11902721         Mainam Siddhardh  RK19TSA08      A\n"
          ]
        }
      ]
    },
    {
      "cell_type": "markdown",
      "source": [
        "Another useful method is the `replace()` method. This is perfect for updating data that occurs multiple times. To use `replace()`, we have to specify the column name and need to pass the values as a dictionary into the replace() method which is in the form of key and value pair, the key will have the previous data of the column and value will have the data to be updated with.\n",
        "\n"
      ],
      "metadata": {
        "id": "D44KGyjWd-ir"
      }
    },
    {
      "cell_type": "code",
      "source": [
        "# updating the column value/data\n",
        "df['Status'] = df['Status'].replace({'P': 'A'})\n",
        "\n",
        "print(df)"
      ],
      "metadata": {
        "colab": {
          "base_uri": "https://localhost:8080/"
        },
        "id": "feBZAyvZek50",
        "outputId": "5245548c-7af1-4836-949d-d9f44b236c24"
      },
      "execution_count": null,
      "outputs": [
        {
          "output_type": "stream",
          "name": "stdout",
          "text": [
            "   Sno  Regristation Number                     Name     RollNo Status\n",
            "0    1             11913907                BOB JONES  RK19TSA01      A\n",
            "1    2             11918698      Vaishnavi choudhary  RK19TSA02      A\n",
            "2    3             12000722            Animesh Singh  RK19TSA03      A\n",
            "3    4             12003178              Yash Panwar  RK19TSA04      A\n",
            "4    5             12005300           Kallem Kruthik  RK19TSA05      A\n",
            "5    6             11902981                DHAR MANN  RK19TSA06      A\n",
            "6    7             11902825  Bhimavarapu Pavan Reddy  RK19TSA07      A\n",
            "7    8             11902721         Mainam Siddhardh  RK19TSA08      A\n"
          ]
        }
      ]
    },
    {
      "cell_type": "markdown",
      "source": [
        "Finally, we can also save changes and write them into the CSV file with `df.to_csv()`"
      ],
      "metadata": {
        "id": "YCAJ8Z7ie8VY"
      }
    },
    {
      "cell_type": "code",
      "source": [
        "df.to_csv(\"AllDetails.csv\", index=False) #We add the index=False here because When you are storing a DataFrame object into a csv file using the to_csv method, \n",
        "#we won't need to store the preceding indices of each row of the df object.\n",
        "#You can avoid that by passing a False boolean value to index parameter.\n",
        "\n",
        "print(df) #These changes will be permanent after you save them!"
      ],
      "metadata": {
        "colab": {
          "base_uri": "https://localhost:8080/"
        },
        "id": "WP2FXHP7e8Gf",
        "outputId": "b23a1372-11f4-4e3d-e657-826c9ff37043"
      },
      "execution_count": null,
      "outputs": [
        {
          "output_type": "stream",
          "name": "stdout",
          "text": [
            "   Sno  Regristation Number                     Name     RollNo Status\n",
            "0    1             11913907                BOB JONES  RK19TSA01      A\n",
            "1    2             11918698      Vaishnavi choudhary  RK19TSA02      A\n",
            "2    3             12000722            Animesh Singh  RK19TSA03      A\n",
            "3    4             12003178              Yash Panwar  RK19TSA04      A\n",
            "4    5             12005300           Kallem Kruthik  RK19TSA05      A\n",
            "5    6             11902981                DHAR MANN  RK19TSA06      A\n",
            "6    7             11902825  Bhimavarapu Pavan Reddy  RK19TSA07      A\n",
            "7    8             11902721         Mainam Siddhardh  RK19TSA08      A\n"
          ]
        }
      ]
    },
    {
      "cell_type": "markdown",
      "source": [
        "## Coding Challenge #2\n",
        "\n",
        "Well, that is the (very basic) introduction to the Pandas library!\n",
        "\n",
        "This coding challenge is very open ended. Think of it as a \"sandbox mode.\" If you want more practice with Pandas, find a CSV file from online and add some touches to it! For example, mess around with column and row names, get rid of and delete stuff, or add some unique changes. \n",
        "\n",
        "Or, to go a step further, try learning more about Pandas on your own! You can learn how to make graphs, calculate summary statistics, etc. These topics will not be required to learn machine learning, but are very helpful in data science.\n",
        "\n"
      ],
      "metadata": {
        "id": "5tqaaFBJfukU"
      }
    },
    {
      "cell_type": "code",
      "source": [
        "## YOUR CODE HERE ##"
      ],
      "metadata": {
        "id": "4_5UDmhbhqCx"
      },
      "execution_count": null,
      "outputs": []
    }
  ]
}