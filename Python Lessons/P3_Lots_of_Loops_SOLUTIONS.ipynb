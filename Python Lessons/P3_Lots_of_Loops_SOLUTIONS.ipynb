{
  "nbformat": 4,
  "nbformat_minor": 0,
  "metadata": {
    "colab": {
      "name": "P3_Lots_of_Loops_SOLUTIONS.ipynb",
      "provenance": []
    },
    "kernelspec": {
      "name": "python3",
      "display_name": "Python 3"
    },
    "language_info": {
      "name": "python"
    }
  },
  "cells": [
    {
      "cell_type": "markdown",
      "metadata": {
        "id": "8fjLS0e0SjRX"
      },
      "source": [
        "# Introduction to Python: Part 3\n",
        "\n",
        "Hi! So glad to see you here again!\n",
        "\n",
        "You already made it quite far, which is awesome! In the past lesson, you learned about operators, conditionals, and lists. Today, we will move on to loops. \n",
        "\n",
        "And as usual, please feel free to ask any questions. Outside of club time, you can send an email or a Remind message to Anna, Andrew, or Reyansh."
      ]
    },
    {
      "cell_type": "markdown",
      "metadata": {
        "id": "IDNz636mQKJq"
      },
      "source": [
        "## Loops\n",
        "\n",
        "Loops can be a helpful tool if we want to repeat an operation many times."
      ]
    },
    {
      "cell_type": "markdown",
      "metadata": {
        "id": "SZrPhq9aKiUi"
      },
      "source": [
        "What if you were asked to print out all of the multiples of 8 all the way to 24? How would you approach this?\n",
        "\n",
        "Well, one way to do this is to manually write `print(8)`, `print(16)`, `print(24)`. But what if you were asked to print all of the multiples of 8 all the way to 8,000,000? This method would clearly not be a good choice anymore.\n",
        "\n",
        "Instead, we can use a while loop. `while` means a similar thing in Python as we would expext if we were to use \"while\" in English."
      ]
    },
    {
      "cell_type": "code",
      "metadata": {
        "colab": {
          "base_uri": "https://localhost:8080/"
        },
        "id": "aQ1c9T9aLSKS",
        "outputId": "454c32a3-3506-403c-a7a2-e04d8b02493d"
      },
      "source": [
        "num = 8\n",
        "while num <= 24:    # To prevent you from having a TON of numbers printed on your screen, we won't try 8,000,000. Your welcome :)\n",
        "  print(num)\n",
        "  num += 8    # This line ensures that the value we print out each time increases by an interval of 8. \n",
        "              # In other words, we are adding 8 to the current number, assigning this result to be num, and then printing out num."
      ],
      "execution_count": 1,
      "outputs": [
        {
          "output_type": "stream",
          "name": "stdout",
          "text": [
            "8\n",
            "16\n",
            "24\n"
          ]
        }
      ]
    },
    {
      "cell_type": "markdown",
      "metadata": {
        "id": "T7jnj-BhE8dX"
      },
      "source": [
        "As you can see, loops are very useful when you want to repeat the same task over and over again but want to make a small change on each interation. \n",
        "\n",
        "If you ever find yourself doing a lot of copying and pasting of code, you may want to consider seeing if a loop can be used in the scenario."
      ]
    },
    {
      "cell_type": "code",
      "metadata": {
        "colab": {
          "base_uri": "https://localhost:8080/"
        },
        "id": "LSk9tAyScInd",
        "outputId": "229148d7-931d-4e2b-908a-96917d5da867"
      },
      "source": [
        "# Practice! Use a while loop to print out all of the multiples of 3 under 20\n",
        "\n",
        "### YOUR CODE HERE ###\n",
        "\n",
        "num = 3\n",
        "while num < 20:\n",
        "  print(num)\n",
        "  num += 3"
      ],
      "execution_count": 21,
      "outputs": [
        {
          "output_type": "stream",
          "name": "stdout",
          "text": [
            "3\n",
            "6\n",
            "9\n",
            "12\n",
            "15\n",
            "18\n"
          ]
        }
      ]
    },
    {
      "cell_type": "markdown",
      "metadata": {
        "id": "rnRBRs2fFtWC"
      },
      "source": [
        "### For Loops\n",
        "\n",
        "We just learned about one type of loop, which is the while loop. Another loop is the for loop. It can be especially helpful with lists."
      ]
    },
    {
      "cell_type": "code",
      "metadata": {
        "id": "azpbfV1ZF1Pz",
        "colab": {
          "base_uri": "https://localhost:8080/"
        },
        "outputId": "4797d82b-c784-4b89-8f41-7384521fcc32"
      },
      "source": [
        "things_in_pencil_pouch = [\"a pencil\", \"a blue pen\", \"a black pen\", \"an eraser\", \"white out\"]\n",
        "\n",
        "for object in things_in_pencil_pouch:\n",
        "  print(\"I have\", object, \"in my pencil pouch.\")"
      ],
      "execution_count": 13,
      "outputs": [
        {
          "output_type": "stream",
          "name": "stdout",
          "text": [
            "I have a pencil in my pencil pouch.\n",
            "I have a blue pen in my pencil pouch.\n",
            "I have a black pen in my pencil pouch.\n",
            "I have an eraser in my pencil pouch.\n",
            "I have white out in my pencil pouch.\n"
          ]
        }
      ]
    },
    {
      "cell_type": "markdown",
      "metadata": {
        "id": "2zjwjtmPQMT9"
      },
      "source": [
        "In the case above, \"object\" is what we call a placeholder variable. It represents any one element in the list. \n",
        "\n",
        "We don't need to define \"object\" prior to this (like we should do for typical variables). This is because in For Loops, it is expected that whatever is behind the \"for\" is a placeholder variable."
      ]
    },
    {
      "cell_type": "code",
      "metadata": {
        "colab": {
          "base_uri": "https://localhost:8080/",
          "height": 178
        },
        "id": "XbVDBe3KZj6i",
        "outputId": "dd1402fd-18d0-4a37-bb9b-71593a4b9e83"
      },
      "source": [
        "# Run this to see how an error comes up when you are not using a loop and use a variable you never initialized before\n",
        "print(new_random_variable)"
      ],
      "execution_count": 15,
      "outputs": [
        {
          "output_type": "error",
          "ename": "NameError",
          "evalue": "ignored",
          "traceback": [
            "\u001b[0;31m---------------------------------------------------------------------------\u001b[0m",
            "\u001b[0;31mNameError\u001b[0m                                 Traceback (most recent call last)",
            "\u001b[0;32m<ipython-input-15-bfbd13fe5876>\u001b[0m in \u001b[0;36m<module>\u001b[0;34m()\u001b[0m\n\u001b[1;32m      1\u001b[0m \u001b[0;31m# Run this to see how an error comes up when you are not using a loop and use a variable you never initialized before\u001b[0m\u001b[0;34m\u001b[0m\u001b[0;34m\u001b[0m\u001b[0;34m\u001b[0m\u001b[0m\n\u001b[0;32m----> 2\u001b[0;31m \u001b[0mprint\u001b[0m\u001b[0;34m(\u001b[0m\u001b[0mnew_random_variable\u001b[0m\u001b[0;34m)\u001b[0m\u001b[0;34m\u001b[0m\u001b[0;34m\u001b[0m\u001b[0m\n\u001b[0m",
            "\u001b[0;31mNameError\u001b[0m: name 'new_random_variable' is not defined"
          ]
        }
      ]
    },
    {
      "cell_type": "markdown",
      "metadata": {
        "id": "u53rfwj6GPKf"
      },
      "source": [
        "An useful application for loops is to count the frequency something appears in a list or how frequent a certain condition is matched in the list:"
      ]
    },
    {
      "cell_type": "code",
      "metadata": {
        "id": "_wj_WJcbGOpX",
        "colab": {
          "base_uri": "https://localhost:8080/"
        },
        "outputId": "3121e89a-e7df-461f-ee9e-3a041950b25c"
      },
      "source": [
        "# Example 1\n",
        "\n",
        "# Let's start with a random list\n",
        "list_of_numbers = [1,2,6,3,5,3,4,1,4,6,7,5,3,4,7,43,2,5,46,45,46,3,4,5,88,1,24,99,4,3,4,3,24,6]\n",
        "\n",
        "# To find how many times the number 3 appears in the list:\n",
        "count = 0     # This keeps track of the number of times 3 appears. It's sort of \"tallying up\" the times it appears.\n",
        "              # We start with count = 0 because we haven't counted any 3's before looping through the list\n",
        "\n",
        "for number in list_of_numbers:\n",
        "  if number == 3:\n",
        "    count += 1    # Important to know that this is indentented twice, while the if statement is indented only once. \n",
        "                  # count += 1 should only occur if the condition in the if statement is met\n",
        "    \n",
        "print(\"The number 3 occurs\", count, \"times!\")"
      ],
      "execution_count": 39,
      "outputs": [
        {
          "output_type": "stream",
          "name": "stdout",
          "text": [
            "The number 3 occurs 6 times!\n"
          ]
        }
      ]
    },
    {
      "cell_type": "code",
      "metadata": {
        "colab": {
          "base_uri": "https://localhost:8080/"
        },
        "id": "VXHpq2PyV5Ht",
        "outputId": "027fffe0-6c0b-4048-c4ac-49dee7e045ec"
      },
      "source": [
        "# Example 2\n",
        "\n",
        "list_of_numbers = [1,2,6,3,5,3,4,1,4,6,7,5,3,4,7,43,2,5,46,45,46,3,4,5,88,1,24,99,4,3,4,3,24,6]\n",
        "\n",
        "# To find how many numbers in the list are divisible by three:\n",
        "\n",
        "count = 0\n",
        "\n",
        "for number in list_of_numbers:\n",
        "  if number % 3 == 0:   # Checks to see if each number, when divided by 3, has a remainder of 0.\n",
        "    count += 1   \n",
        "    \n",
        "print(count, \"numbers in the list are divisible by 3!\")"
      ],
      "execution_count": 40,
      "outputs": [
        {
          "output_type": "stream",
          "name": "stdout",
          "text": [
            "13 numbers in the list are divisible by 3!\n"
          ]
        }
      ]
    },
    {
      "cell_type": "markdown",
      "metadata": {
        "id": "6sji1G3Ql389"
      },
      "source": [
        "Time to practice!"
      ]
    },
    {
      "cell_type": "code",
      "metadata": {
        "colab": {
          "base_uri": "https://localhost:8080/"
        },
        "id": "ESYAZwsKmDeI",
        "outputId": "df83d141-d88a-4157-fdfc-a4189d0e4bf5"
      },
      "source": [
        "numbers = [1, 5, 7, 3, 5, 3, 7, 5, 4, 5, 9, 8, 8, 7, 4, 4, 6, 3, 2, 6, 3]\n",
        "\n",
        "# Use a for loop to find the amount of even numbers in the list\n",
        "\n",
        "### YOUR CODE HERE ###\n",
        "count = 0\n",
        "\n",
        "for number in numbers:\n",
        "  if number % 2 == 0:\n",
        "    count += 1\n",
        "\n",
        "print(count, \"numbers are divisible by 2.\")"
      ],
      "execution_count": 23,
      "outputs": [
        {
          "output_type": "stream",
          "name": "stdout",
          "text": [
            "8 numbers are divisible by 2.\n"
          ]
        }
      ]
    },
    {
      "cell_type": "markdown",
      "metadata": {
        "id": "jIDdokoOGAl6"
      },
      "source": [
        "Notice that a for loop is good for doing something to each element of a list one-by-one. If we don't want to do something to each element of a list one-by-one, loops wouldn't be very helpful. For example, if we wanted to print out an entire list at once, we don't need a for loop:"
      ]
    },
    {
      "cell_type": "code",
      "metadata": {
        "id": "ZTsl1w5SGGuN",
        "colab": {
          "base_uri": "https://localhost:8080/"
        },
        "outputId": "6a05fabd-3c43-426f-c417-1ff1db146030"
      },
      "source": [
        "# This prints the entire list at once and in one line\n",
        "things_in_pencil_pouch = [\"a pencil\", \"a blue pen\", \"a black pen\", \"an eraser\", \"white out\"]\n",
        "print(things_in_pencil_pouch)"
      ],
      "execution_count": 25,
      "outputs": [
        {
          "output_type": "stream",
          "name": "stdout",
          "text": [
            "['a pencil', 'a blue pen', 'a black pen', 'an eraser', 'white out']\n"
          ]
        }
      ]
    },
    {
      "cell_type": "markdown",
      "metadata": {
        "id": "TmR8AMRuQLiB"
      },
      "source": [
        "### Ranged For Loop\n",
        "\n",
        "In addition to using a for loop for a list, we can also use a for loop for a range of numbers. \n",
        "\n",
        "Let's try printing every number from 1 to 10, including 1 and 10."
      ]
    },
    {
      "cell_type": "code",
      "metadata": {
        "id": "-_phUnfIH3IH",
        "colab": {
          "base_uri": "https://localhost:8080/"
        },
        "outputId": "1c13ffc5-7d02-4584-d493-bbd1c081053c"
      },
      "source": [
        "for number in range(10):\n",
        "  print(number) "
      ],
      "execution_count": 26,
      "outputs": [
        {
          "output_type": "stream",
          "name": "stdout",
          "text": [
            "0\n",
            "1\n",
            "2\n",
            "3\n",
            "4\n",
            "5\n",
            "6\n",
            "7\n",
            "8\n",
            "9\n"
          ]
        }
      ]
    },
    {
      "cell_type": "markdown",
      "metadata": {
        "id": "3Mpm36fQXowt"
      },
      "source": [
        "But wait! What was the first number that was printed? It was 0! This is because in Python, we start counting from 0, not 1. \n",
        "\n",
        "Then why did we stop at 9 and not get up to 10? This is because when we use `range()` and put a number in the parenthesis, we are actually specifiying the number we want to count up to, but don't actually get to."
      ]
    },
    {
      "cell_type": "markdown",
      "metadata": {
        "id": "5I6DD1w7YiqS"
      },
      "source": [
        "Rewrite the code shown above and make corrections in order to print out every integer from 1 to 10, including 1 and 10."
      ]
    },
    {
      "cell_type": "code",
      "metadata": {
        "colab": {
          "base_uri": "https://localhost:8080/"
        },
        "id": "nM1kSJjJYs8c",
        "outputId": "fbb9d573-7943-46f5-9e90-7465925c10f8"
      },
      "source": [
        "### YOUR CODE HERE ###\n",
        "\n",
        "# One approach:\n",
        "for number in range(10):\n",
        "  print(number + 1)\n",
        "\n",
        "# Another approach:\n",
        "for number in range (1, 11):\n",
        "  print(number)\n",
        "\n",
        "## Keep in mind that in Python, there are often many, many, many ways to do things. Don't restrict yourself to trying to find the \"one correct answer\"."
      ],
      "execution_count": 27,
      "outputs": [
        {
          "output_type": "stream",
          "name": "stdout",
          "text": [
            "1\n",
            "2\n",
            "3\n",
            "4\n",
            "5\n",
            "6\n",
            "7\n",
            "8\n",
            "9\n",
            "10\n",
            "1\n",
            "2\n",
            "3\n",
            "4\n",
            "5\n",
            "6\n",
            "7\n",
            "8\n",
            "9\n",
            "10\n"
          ]
        }
      ]
    },
    {
      "cell_type": "markdown",
      "metadata": {
        "id": "kwibJf1-qyps"
      },
      "source": [
        "### Nested Loops (Bonus Challenge Section)\n",
        "\n",
        "As you saw earlier, we can put if statements inside of loops. However, we can also put loops inside of loops. These are called nested loops."
      ]
    },
    {
      "cell_type": "markdown",
      "metadata": {
        "id": "Cq9qPWx-rk63"
      },
      "source": [
        "As a reminder, only the lines indented imediately after the `for` are considered part of the loop. See below for an example:"
      ]
    },
    {
      "cell_type": "code",
      "metadata": {
        "colab": {
          "base_uri": "https://localhost:8080/"
        },
        "id": "zd42JQdMr4ht",
        "outputId": "8e2e3327-e980-43be-850e-1e896fa094b5"
      },
      "source": [
        "fruits = [\"watermellon\", \"bananas\", \"kiwi\", \"strawberries\"]\n",
        "\n",
        "for item in fruits:\n",
        "  print(\"I enjoy eating\", item)\n",
        "print(\"And that is all of my favorite fruits!\")"
      ],
      "execution_count": 32,
      "outputs": [
        {
          "output_type": "stream",
          "name": "stdout",
          "text": [
            "I enjoy eating watermellon\n",
            "I enjoy eating bananas\n",
            "I enjoy eating kiwi\n",
            "I enjoy eating strawberries\n",
            "And that is all of my favorite fruits!\n"
          ]
        }
      ]
    },
    {
      "cell_type": "markdown",
      "metadata": {
        "id": "I6Qew63BsoYO"
      },
      "source": [
        "So when would we need a loop inside of a loop? One example is when we want to repeat something for *each* element in a list."
      ]
    },
    {
      "cell_type": "code",
      "metadata": {
        "colab": {
          "base_uri": "https://localhost:8080/"
        },
        "id": "PwePaEZctC_h",
        "outputId": "5d2a7101-87dd-44fb-8454-725f5680a44d"
      },
      "source": [
        "fruits = [\"watermellon\", \"bananas\", \"kiwi\", \"strawberries\"]\n",
        "\n",
        "for item in fruits:\n",
        "  for num in range(3): # This prints out each item 3 times because it prints on iteration 0, iteration 1, and iteration 2.\n",
        "    print(item)"
      ],
      "execution_count": 35,
      "outputs": [
        {
          "output_type": "stream",
          "name": "stdout",
          "text": [
            "watermellon\n",
            "watermellon\n",
            "watermellon\n",
            "bananas\n",
            "bananas\n",
            "bananas\n",
            "kiwi\n",
            "kiwi\n",
            "kiwi\n",
            "strawberries\n",
            "strawberries\n",
            "strawberries\n"
          ]
        }
      ]
    },
    {
      "cell_type": "markdown",
      "metadata": {
        "id": "hCwuKyFdtwFE"
      },
      "source": [
        "Let's practice! This time, instead of writing code, you will instead write out (on paper or a google doc) what you think it will print. Don't run the code until you finish writing out your prediction."
      ]
    },
    {
      "cell_type": "code",
      "metadata": {
        "colab": {
          "base_uri": "https://localhost:8080/"
        },
        "id": "3hD4_Nrft-4v",
        "outputId": "7b1a8320-5d5f-4245-8b77-f849c56eccf6"
      },
      "source": [
        "# Write out what you predict the following will print\n",
        "\n",
        "for x in range(1, 3):\n",
        "  print(x)\n",
        "  for y in range(1, 3):\n",
        "    num = x + y\n",
        "    print(num)"
      ],
      "execution_count": 38,
      "outputs": [
        {
          "output_type": "stream",
          "name": "stdout",
          "text": [
            "1\n",
            "2\n",
            "3\n",
            "2\n",
            "3\n",
            "4\n"
          ]
        }
      ]
    }
  ]
}