{
  "nbformat": 4,
  "nbformat_minor": 0,
  "metadata": {
    "colab": {
      "name": "P1_Introduction to Python - Solutions.ipynb",
      "provenance": []
    },
    "kernelspec": {
      "name": "python3",
      "display_name": "Python 3"
    },
    "language_info": {
      "name": "python"
    }
  },
  "cells": [
    {
      "cell_type": "markdown",
      "metadata": {
        "id": "Tm-MoyHSpZTt"
      },
      "source": [
        "# Introduction to Python: Part 1\n",
        "\n",
        "In the AI & Machine Learning club, we will be using Python to code our projects! \n",
        "\n",
        "In this series of lessons, we will walk you through fundamental Python knowledge that will assist you with your projects. Keep in mind that this is a very condensed course, so it would be very important for you to practice and review this on your own as well."
      ]
    },
    {
      "cell_type": "markdown",
      "metadata": {
        "id": "Dx2VX_zGT211"
      },
      "source": [
        "## Your First Line of Python\n",
        "\n",
        "Okay, let's get started with some coding! \n",
        "\n",
        "If you're in GitHub right now, you will need to type the line of code below into Replit in order to run it."
      ]
    },
    {
      "cell_type": "code",
      "metadata": {
        "id": "SIzLXK_4EoS8",
        "colab": {
          "base_uri": "https://localhost:8080/"
        },
        "outputId": "adf64ea2-35a0-4c67-f083-49593988827f"
      },
      "source": [
        "print(\"Hello world\")"
      ],
      "execution_count": null,
      "outputs": [
        {
          "output_type": "stream",
          "name": "stdout",
          "text": [
            "Hello world\n"
          ]
        }
      ]
    },
    {
      "cell_type": "markdown",
      "metadata": {
        "id": "A145dPi1FUiI"
      },
      "source": [
        "## Your First Variable\n",
        "\n",
        "In programming, we use something called a **variable**. It's similar to what you have learned in math. "
      ]
    },
    {
      "cell_type": "code",
      "metadata": {
        "id": "Z8FlcLOPFxJe"
      },
      "source": [
        "x = 10"
      ],
      "execution_count": null,
      "outputs": []
    },
    {
      "cell_type": "markdown",
      "metadata": {
        "id": "5zKC-Rb2TsRm"
      },
      "source": [
        "When you run the cell above, you create a variable named `x` assigned with the value of 10. \n",
        "\n",
        "The next time you refer to `x` in your code, it will remember that it has been assigned 10. "
      ]
    },
    {
      "cell_type": "markdown",
      "metadata": {
        "id": "EhVneCRuF-qw"
      },
      "source": [
        "## Printing\n",
        "\n",
        "When we run a Python program, we will only receive what we set to print to the screen. Run the code below to see how it works:"
      ]
    },
    {
      "cell_type": "code",
      "metadata": {
        "id": "SGboEhmDGLkQ"
      },
      "source": [
        "# Note that running this line of code yields no result\n",
        "x = 20"
      ],
      "execution_count": null,
      "outputs": []
    },
    {
      "cell_type": "code",
      "metadata": {
        "colab": {
          "base_uri": "https://localhost:8080/"
        },
        "id": "yApStE0ovleH",
        "outputId": "faf38ba3-bd21-47cb-eb42-773889c965a4"
      },
      "source": [
        "# However, running this gives you a result\n",
        "y = 25\n",
        "print(y)"
      ],
      "execution_count": null,
      "outputs": [
        {
          "output_type": "stream",
          "name": "stdout",
          "text": [
            "25\n"
          ]
        }
      ]
    },
    {
      "cell_type": "markdown",
      "metadata": {
        "id": "qaX4Quwsvuh7"
      },
      "source": [
        "Note that `print` cannot have a capital P."
      ]
    },
    {
      "cell_type": "markdown",
      "metadata": {
        "id": "agl-HIjaUch0"
      },
      "source": [
        "Time to practice! Add a line to the code block below to print the value of `z`."
      ]
    },
    {
      "cell_type": "code",
      "metadata": {
        "id": "CZzE--8kUgMI",
        "colab": {
          "base_uri": "https://localhost:8080/"
        },
        "outputId": "7e5f91e3-0097-4545-8dd8-f4bb1c954692"
      },
      "source": [
        "z = 35\n",
        "### YOUR CODE HERE ### \n",
        "print(z)\n",
        "# By the way, when you add a hashtag to the front of a line of code, this tells the program to treat that line as a comment\n",
        "# Programmers leave comments on their code to leave helpful notes for themselves and communicate information to other programmers!"
      ],
      "execution_count": null,
      "outputs": [
        {
          "output_type": "stream",
          "name": "stdout",
          "text": [
            "35\n"
          ]
        }
      ]
    },
    {
      "cell_type": "markdown",
      "metadata": {
        "id": "fLAAGvkuWLjW"
      },
      "source": [
        "What happens if we use multiple print commands? They will automatically print on separate lines:"
      ]
    },
    {
      "cell_type": "code",
      "metadata": {
        "id": "dIX2pxeOWSU4",
        "colab": {
          "base_uri": "https://localhost:8080/"
        },
        "outputId": "b566b319-a7ae-42dc-8efb-628603fc691c"
      },
      "source": [
        "print(\"Hello!\")\n",
        "print(\"How are you feeling today?\")"
      ],
      "execution_count": null,
      "outputs": [
        {
          "output_type": "stream",
          "name": "stdout",
          "text": [
            "Hello!\n",
            "How are you feeling today?\n"
          ]
        }
      ]
    },
    {
      "cell_type": "markdown",
      "metadata": {
        "id": "BVY7e1QGWa4x"
      },
      "source": [
        "An useful way to use variables is to print out messages that have the value of the variable in the message:"
      ]
    },
    {
      "cell_type": "code",
      "metadata": {
        "id": "6TqMtz5fWsL-",
        "colab": {
          "base_uri": "https://localhost:8080/"
        },
        "outputId": "44f29c8d-5de8-404b-a178-73ec6e7425e5"
      },
      "source": [
        "num_pencils = 5\n",
        "print(\"I have\", num_pencils, \"pencils.\")"
      ],
      "execution_count": null,
      "outputs": [
        {
          "output_type": "stream",
          "name": "stdout",
          "text": [
            "I have 5 pencils.\n"
          ]
        }
      ]
    },
    {
      "cell_type": "markdown",
      "metadata": {
        "id": "3HQcluhuzDpc"
      },
      "source": [
        "Notice that variables don't have to just be single lettered, such as `x`, `y`, and `z`. They can also be composed of letters, such as the `num_pencils` you saw above."
      ]
    },
    {
      "cell_type": "markdown",
      "metadata": {
        "id": "0YCnH1C9zTpE"
      },
      "source": [
        "Time to practice! Look in the cell below for instructions:"
      ]
    },
    {
      "cell_type": "code",
      "metadata": {
        "id": "OmJzbbHYz30m",
        "colab": {
          "base_uri": "https://localhost:8080/"
        },
        "outputId": "89146512-7fbb-4a06-a941-0dc9e190d46b"
      },
      "source": [
        "num_books = 100\n",
        "# Using the variable num_books, Write a print statement below to say \"I own 100 books.\"\n",
        "\n",
        "### YOUR CODE HERE ### \n",
        "print(\"I own\", num_books, \"books.\")"
      ],
      "execution_count": null,
      "outputs": [
        {
          "output_type": "stream",
          "name": "stdout",
          "text": [
            "I own 100 books.\n"
          ]
        }
      ]
    },
    {
      "cell_type": "markdown",
      "metadata": {
        "id": "Qlk179SBGShj"
      },
      "source": [
        "## Rules on Naming Variables\n",
        "\n",
        "Like many other things, there are rules that you must follow when naming variables. "
      ]
    },
    {
      "cell_type": "markdown",
      "metadata": {
        "id": "CNymdykGzqFX"
      },
      "source": [
        "For example, variables require the correct input of lowercase and uppercase letters. This means a variable named `something` and one named `Something` are different! See what happes when we run code with this mistake:"
      ]
    },
    {
      "cell_type": "code",
      "metadata": {
        "id": "Ii_G-7RhVYqN"
      },
      "source": [
        "thing = 1\n",
        "print(Thing)"
      ],
      "execution_count": null,
      "outputs": []
    },
    {
      "cell_type": "markdown",
      "metadata": {
        "id": "5MrWMUhlVekt"
      },
      "source": [
        "This is because we created a variable named `thing` but not one named `Thing`.\n",
        "\n",
        "As you have seen in earlier examples, variables can have letters, numbers, and underscores in them. However, there are restrictions.\n",
        "\n",
        "Run the following code blocks to see which ones raise errors:"
      ]
    },
    {
      "cell_type": "code",
      "metadata": {
        "id": "FrJUU4k4WFgi"
      },
      "source": [
        "thing_2 = 5"
      ],
      "execution_count": null,
      "outputs": []
    },
    {
      "cell_type": "code",
      "metadata": {
        "id": "bj-VX0k8WRmd",
        "colab": {
          "base_uri": "https://localhost:8080/",
          "height": 128
        },
        "outputId": "7db4c280-3112-4741-8209-c9d14961f93a"
      },
      "source": [
        "thing-2 = 5"
      ],
      "execution_count": null,
      "outputs": [
        {
          "output_type": "error",
          "ename": "SyntaxError",
          "evalue": "ignored",
          "traceback": [
            "\u001b[0;36m  File \u001b[0;32m\"<ipython-input-2-cfe80068f3a2>\"\u001b[0;36m, line \u001b[0;32m1\u001b[0m\n\u001b[0;31m    thing-2 = 5\u001b[0m\n\u001b[0m               ^\u001b[0m\n\u001b[0;31mSyntaxError\u001b[0m\u001b[0;31m:\u001b[0m can't assign to operator\n"
          ]
        }
      ]
    },
    {
      "cell_type": "code",
      "metadata": {
        "id": "9pGaJumiWTX9",
        "colab": {
          "base_uri": "https://localhost:8080/",
          "height": 128
        },
        "outputId": "d023c288-d3dc-477a-c7bb-9728aa10d69c"
      },
      "source": [
        "2_thing = 5"
      ],
      "execution_count": null,
      "outputs": [
        {
          "output_type": "error",
          "ename": "SyntaxError",
          "evalue": "ignored",
          "traceback": [
            "\u001b[0;36m  File \u001b[0;32m\"<ipython-input-18-5c288ad0de83>\"\u001b[0;36m, line \u001b[0;32m1\u001b[0m\n\u001b[0;31m    2_thing = 5\u001b[0m\n\u001b[0m     ^\u001b[0m\n\u001b[0;31mSyntaxError\u001b[0m\u001b[0;31m:\u001b[0m invalid token\n"
          ]
        }
      ]
    },
    {
      "cell_type": "code",
      "metadata": {
        "id": "vppY1oAYKZDD"
      },
      "source": [
        "random_variable = 5"
      ],
      "execution_count": null,
      "outputs": []
    },
    {
      "cell_type": "code",
      "metadata": {
        "id": "2T4xn5M6WWZg",
        "colab": {
          "base_uri": "https://localhost:8080/",
          "height": 128
        },
        "outputId": "2350c21d-f010-4c4c-8a0a-8260a7a23308"
      },
      "source": [
        "random variable = 5"
      ],
      "execution_count": null,
      "outputs": [
        {
          "output_type": "error",
          "ename": "SyntaxError",
          "evalue": "ignored",
          "traceback": [
            "\u001b[0;36m  File \u001b[0;32m\"<ipython-input-21-bc7ae6e8509a>\"\u001b[0;36m, line \u001b[0;32m1\u001b[0m\n\u001b[0;31m    random variable = 5\u001b[0m\n\u001b[0m                  ^\u001b[0m\n\u001b[0;31mSyntaxError\u001b[0m\u001b[0;31m:\u001b[0m invalid syntax\n"
          ]
        }
      ]
    },
    {
      "cell_type": "markdown",
      "metadata": {
        "id": "4z3D17hHWiDk"
      },
      "source": [
        "From the above examples, you should notice:\n",
        "\n",
        "*   You cannot use any special characters (such as`-` or `+`) or punctuation (such as `.` or `,`). That's why `thing-2 = 5` doesn't work.\n",
        "*   You can only start a variable name with a letter or underscore (no numbers), so you cannot use `2_thing = 5`. \n",
        "*   You cannot put a space in a variable name, so you cannot write `random variable = 5`."
      ]
    },
    {
      "cell_type": "markdown",
      "metadata": {
        "id": "0Fciw__2K-DO"
      },
      "source": [
        "As a final note, as shown below, you also can't use \"reserved keywords\" as variable names. \"Reserved keywords\" are special words in Python that have specific jobs and do specific things in your code. For example, one reserved keyword is `for`. (You will learn what `for`does later on.) It brings a syntax error in your code:"
      ]
    },
    {
      "cell_type": "code",
      "metadata": {
        "id": "y9i_XQ2UXS10",
        "colab": {
          "base_uri": "https://localhost:8080/",
          "height": 128
        },
        "outputId": "e8c9ae0e-bb35-4986-e8bb-2728fb6141c0"
      },
      "source": [
        "for = 10"
      ],
      "execution_count": null,
      "outputs": [
        {
          "output_type": "error",
          "ename": "SyntaxError",
          "evalue": "ignored",
          "traceback": [
            "\u001b[0;36m  File \u001b[0;32m\"<ipython-input-24-597287a2d762>\"\u001b[0;36m, line \u001b[0;32m1\u001b[0m\n\u001b[0;31m    for = 10\u001b[0m\n\u001b[0m        ^\u001b[0m\n\u001b[0;31mSyntaxError\u001b[0m\u001b[0;31m:\u001b[0m invalid syntax\n"
          ]
        }
      ]
    },
    {
      "cell_type": "markdown",
      "metadata": {
        "id": "aW9avmXMGIk1"
      },
      "source": [
        "## Data Types\n",
        "\n",
        "As a review, what we **name** our variable is what goes in front of the equal sign and what we **assign** to are variables are what goes right after the equal sign.\n",
        "\n",
        "So far, we have found out that we can use letters, words, and numbers in **naming** our variables. However, we can actually also **assign** different types of data to our variables!"
      ]
    },
    {
      "cell_type": "markdown",
      "metadata": {
        "id": "OT4QxPNr263k"
      },
      "source": [
        "We can assign text to variables by using quotations or apostrophes. "
      ]
    },
    {
      "cell_type": "code",
      "metadata": {
        "colab": {
          "base_uri": "https://localhost:8080/"
        },
        "id": "R5e1zq6f5eXd",
        "outputId": "ebf7bd4b-d89f-4a9f-8653-09274d84ee8d"
      },
      "source": [
        "some_string = \"Apples\"\n",
        "some_string_2 = 'Oranges'\n",
        "print(some_string)\n",
        "print(some_string_2)"
      ],
      "execution_count": null,
      "outputs": [
        {
          "output_type": "stream",
          "name": "stdout",
          "text": [
            "Apples\n",
            "Oranges\n"
          ]
        }
      ]
    },
    {
      "cell_type": "code",
      "metadata": {
        "id": "uRJBPlU1Iyj4"
      },
      "source": [
        "# We can also assign numbers with decimal points to our variables\n",
        "some_number = 13.45"
      ],
      "execution_count": null,
      "outputs": []
    },
    {
      "cell_type": "markdown",
      "metadata": {
        "id": "lSJQWGgUXYXV"
      },
      "source": [
        "Okay, let's practice!"
      ]
    },
    {
      "cell_type": "code",
      "metadata": {
        "id": "274hJJg-0Xzc",
        "colab": {
          "base_uri": "https://localhost:8080/"
        },
        "outputId": "e096357e-0e4d-4f68-92ec-ce0602e8fdd3"
      },
      "source": [
        "# Initialize your own variable below (give it any valid name) and assign it the value \"Hello!\". Then print it.\n",
        "### YOUR CODE HERE ### \n",
        "yay = \"Hello!\"\n",
        "print(yay)"
      ],
      "execution_count": null,
      "outputs": [
        {
          "output_type": "stream",
          "name": "stdout",
          "text": [
            "Hello!\n"
          ]
        }
      ]
    },
    {
      "cell_type": "markdown",
      "metadata": {
        "id": "cl4H_EeSGTw9"
      },
      "source": [
        "## Math in Python\n",
        "\n",
        "Python can also be used as a math calculator. In machine learning, we will often deal with complex numbers and equations, so this is when a calculator comes handy! \n",
        "\n",
        "For example, if we were asked to multiply 23 and 45, we could type it right into Python:"
      ]
    },
    {
      "cell_type": "code",
      "metadata": {
        "id": "5b6juVn90xbc",
        "colab": {
          "base_uri": "https://localhost:8080/"
        },
        "outputId": "0915c39e-9304-40c6-df12-4ca95d8f637f"
      },
      "source": [
        "print(23*45)"
      ],
      "execution_count": null,
      "outputs": [
        {
          "output_type": "stream",
          "name": "stdout",
          "text": [
            "1035\n"
          ]
        }
      ]
    },
    {
      "cell_type": "markdown",
      "metadata": {
        "id": "m1XLpRkT1ACS"
      },
      "source": [
        "But what if we need to use this answer for future calculations? We can save it as a variable and use it later!"
      ]
    },
    {
      "cell_type": "code",
      "metadata": {
        "id": "WXQ-xXAJF6QT",
        "colab": {
          "base_uri": "https://localhost:8080/"
        },
        "outputId": "17393656-b141-45b7-c98a-6853a6c12b35"
      },
      "source": [
        "a = 23 * 45\n",
        "b = 4\n",
        "c = a * b\n",
        "print(c)"
      ],
      "execution_count": null,
      "outputs": [
        {
          "output_type": "stream",
          "name": "stdout",
          "text": [
            "4140\n"
          ]
        }
      ]
    },
    {
      "cell_type": "markdown",
      "metadata": {
        "id": "qImtIYnqGh74"
      },
      "source": [
        "### Math Operators\n",
        "\n",
        "See how we do mathematical operations in Python below:"
      ]
    },
    {
      "cell_type": "code",
      "metadata": {
        "id": "pSMipR2J1b8H"
      },
      "source": [
        "addition = 7 + 3\n",
        "subtraction = 18 - 7\n",
        "\n",
        "multiplication = 12 * 3\n",
        "division = 36 / 6\n",
        "\n",
        "exponents = 3 ** 2\n",
        "\n",
        "# Notice that if we run this cell block, there is no output (so we can't check our results)"
      ],
      "execution_count": null,
      "outputs": []
    },
    {
      "cell_type": "code",
      "metadata": {
        "id": "cXLQdijcNenJ",
        "colab": {
          "base_uri": "https://localhost:8080/"
        },
        "outputId": "d30aa19f-fbcc-498b-837a-af9fc1f49d56"
      },
      "source": [
        "# Add a print statements so you can check if the calculations come out as expected!\n",
        "\n",
        "### YOUR CODE HERE ### \n",
        "print(addition)\n",
        "print(subtraction)\n",
        "print(multiplication)\n",
        "print(division)\n",
        "print(exponents)"
      ],
      "execution_count": null,
      "outputs": [
        {
          "output_type": "stream",
          "name": "stdout",
          "text": [
            "10\n",
            "11\n",
            "36\n",
            "6.0\n",
            "9\n"
          ]
        }
      ]
    },
    {
      "cell_type": "markdown",
      "metadata": {
        "id": "ieXkjVSP18iY"
      },
      "source": [
        "Additionally, one math operation you may have not have seen before is called **modulo**. It can sometimes be useful because it returns the remainder after you divide.\n",
        "\n",
        "For example:"
      ]
    },
    {
      "cell_type": "code",
      "metadata": {
        "id": "3ndlIJZY2HzW",
        "colab": {
          "base_uri": "https://localhost:8080/"
        },
        "outputId": "65e1a1de-4c0c-467f-9c1d-857855f4b1b2"
      },
      "source": [
        "modulo = 33 % 10\n",
        "print(modulo)\n",
        "\n",
        "# When you divide 33 by 10, you get 3 with a remainder of 3\n",
        "# The modulo (%) operator returns that 3"
      ],
      "execution_count": null,
      "outputs": [
        {
          "output_type": "stream",
          "name": "stdout",
          "text": [
            "3\n"
          ]
        }
      ]
    },
    {
      "cell_type": "markdown",
      "metadata": {
        "id": "CeJcYlEQ2zB6"
      },
      "source": [
        "### Order of Operations and Parentheses\n",
        "\n",
        "Order of operations and parentheses work the same way in Python as you would expect in math."
      ]
    },
    {
      "cell_type": "code",
      "metadata": {
        "id": "JYzFKAQy266e",
        "colab": {
          "base_uri": "https://localhost:8080/"
        },
        "outputId": "3197d401-7b2f-4702-e4a2-8ca68962b4e6"
      },
      "source": [
        "some_number = (47 + 3) * 2 / 10\n",
        "print(some_number)"
      ],
      "execution_count": null,
      "outputs": [
        {
          "output_type": "stream",
          "name": "stdout",
          "text": [
            "10.0\n"
          ]
        }
      ]
    },
    {
      "cell_type": "markdown",
      "metadata": {
        "id": "WIB9q_WU3FU8"
      },
      "source": [
        "However, an exception is that you cannot do multiplication by just having parentheses:"
      ]
    },
    {
      "cell_type": "code",
      "metadata": {
        "id": "1LbbzbKF3Klf",
        "colab": {
          "base_uri": "https://localhost:8080/",
          "height": 162
        },
        "outputId": "a157069a-3d08-43d7-b927-8314b1f5e9cf"
      },
      "source": [
        "some_number_2 = 2 (5 + 5)"
      ],
      "execution_count": null,
      "outputs": [
        {
          "output_type": "error",
          "ename": "TypeError",
          "evalue": "ignored",
          "traceback": [
            "\u001b[0;31m---------------------------------------------------------------------------\u001b[0m",
            "\u001b[0;31mTypeError\u001b[0m                                 Traceback (most recent call last)",
            "\u001b[0;32m<ipython-input-16-fcd17ba6befa>\u001b[0m in \u001b[0;36m<module>\u001b[0;34m()\u001b[0m\n\u001b[0;32m----> 1\u001b[0;31m \u001b[0msome_number_2\u001b[0m \u001b[0;34m=\u001b[0m \u001b[0;36m2\u001b[0m \u001b[0;34m(\u001b[0m\u001b[0;36m5\u001b[0m \u001b[0;34m+\u001b[0m \u001b[0;36m5\u001b[0m\u001b[0;34m)\u001b[0m\u001b[0;34m\u001b[0m\u001b[0;34m\u001b[0m\u001b[0m\n\u001b[0m",
            "\u001b[0;31mTypeError\u001b[0m: 'int' object is not callable"
          ]
        }
      ]
    },
    {
      "cell_type": "markdown",
      "metadata": {
        "id": "yjv3mJ9Z3dWS"
      },
      "source": [
        "### A Little More Math in Python\n",
        "\n",
        "So far, we've only been creating new variables. However, variables in Python can be updated to hold new values. For example:"
      ]
    },
    {
      "cell_type": "code",
      "metadata": {
        "id": "34BCUaoC3r6N",
        "colab": {
          "base_uri": "https://localhost:8080/"
        },
        "outputId": "d3dbc4bf-c2cc-4dc7-970f-be38770fb099"
      },
      "source": [
        "a = 10\n",
        "print(a)\n",
        "a = 20\n",
        "print(a)"
      ],
      "execution_count": null,
      "outputs": [
        {
          "output_type": "stream",
          "name": "stdout",
          "text": [
            "10\n",
            "20\n"
          ]
        }
      ]
    },
    {
      "cell_type": "markdown",
      "metadata": {
        "id": "2v7QdEfq3wSE"
      },
      "source": [
        "What if we wanted to add 5 to the value of `a`? "
      ]
    },
    {
      "cell_type": "code",
      "metadata": {
        "id": "WZCsT3Xd37N2",
        "colab": {
          "base_uri": "https://localhost:8080/"
        },
        "outputId": "d3fe3b06-d56b-4ba7-e4d3-add73d50f954"
      },
      "source": [
        "a = 20\n",
        "a += 5\n",
        "print(a)"
      ],
      "execution_count": null,
      "outputs": [
        {
          "output_type": "stream",
          "name": "stdout",
          "text": [
            "25\n"
          ]
        }
      ]
    },
    {
      "cell_type": "markdown",
      "metadata": {
        "id": "w--DCRex_-3J"
      },
      "source": [
        "The `+=` tells the computer to add 5 to the original value of `a`, and then update `a` to equal this new number."
      ]
    },
    {
      "cell_type": "markdown",
      "metadata": {
        "id": "z6wdIPsK4B4z"
      },
      "source": [
        "Below is a longer example with other operations. What do you think will be printed out? Try calculating this yourself (without technology), and then add a print statement to verify the accuracy of your answer:"
      ]
    },
    {
      "cell_type": "code",
      "metadata": {
        "id": "6cTxAUwG4KBd",
        "colab": {
          "base_uri": "https://localhost:8080/"
        },
        "outputId": "a71de372-143f-4cc4-d072-9b0c5fc28393"
      },
      "source": [
        "unknown = 5\n",
        "unknown += 5\n",
        "unknown -= 2\n",
        "unknown *= 8\n",
        "unknown /= 4\n",
        "unknown %= 3\n",
        "\n",
        "##ADD a print statement here\n",
        "print(unknown)"
      ],
      "execution_count": null,
      "outputs": [
        {
          "output_type": "stream",
          "name": "stdout",
          "text": [
            "1.0\n"
          ]
        }
      ]
    }
  ]
}