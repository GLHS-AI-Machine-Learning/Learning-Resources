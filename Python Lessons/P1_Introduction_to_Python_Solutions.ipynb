{
  "nbformat": 4,
  "nbformat_minor": 0,
  "metadata": {
    "colab": {
      "name": "P1_Introduction_to_Python_Solutions.ipynb",
      "provenance": [],
      "collapsed_sections": []
    },
    "kernelspec": {
      "name": "python3",
      "display_name": "Python 3"
    },
    "language_info": {
      "name": "python"
    }
  },
  "cells": [
    {
      "cell_type": "markdown",
      "metadata": {
        "id": "Tm-MoyHSpZTt"
      },
      "source": [
        "# Introduction to Python: Part 1\n",
        "\n",
        "Welcome to the world of Python! \n",
        "\n",
        "In the AI & Machine Learning club, we will be using Python to code our projects! \n",
        "\n",
        "In this series of lessons, we will walk you through fundamental Python knowledge that will assist you with your projects. "
      ]
    },
    {
      "cell_type": "markdown",
      "metadata": {
        "id": "Dx2VX_zGT211"
      },
      "source": [
        "## Your First Line of Python\n",
        "\n",
        "Okay, let's get started with some programming! \n",
        "\n",
        "Click on the code block below, and a play button will appear on the left. Click on the play button to run the line of Python code."
      ]
    },
    {
      "cell_type": "code",
      "metadata": {
        "id": "SIzLXK_4EoS8"
      },
      "source": [
        "print(\"Hello world\")"
      ],
      "execution_count": null,
      "outputs": []
    },
    {
      "cell_type": "markdown",
      "metadata": {
        "id": "A145dPi1FUiI"
      },
      "source": [
        "## Your First Variable\n",
        "\n",
        "In programming, we use a concept called a **variable**. It's similar to what you have learned in math. Run the cell below:"
      ]
    },
    {
      "cell_type": "code",
      "metadata": {
        "id": "Z8FlcLOPFxJe"
      },
      "source": [
        "x = 10"
      ],
      "execution_count": null,
      "outputs": []
    },
    {
      "cell_type": "markdown",
      "metadata": {
        "id": "5zKC-Rb2TsRm"
      },
      "source": [
        "When you run the cell above, you create a variable named `x` assigned with the value of 10. \n",
        "\n",
        "The next time you refer to `x` in your code, it will remember that it has been assigned 10. \n",
        "\n",
        "You will see lots of variables in the future!"
      ]
    },
    {
      "cell_type": "markdown",
      "metadata": {
        "id": "EhVneCRuF-qw"
      },
      "source": [
        "## Printing\n",
        "\n",
        "When a Python program is run, we will only see what we set to print to the screen. \n",
        "\n",
        "Notice that when we set `x = 10`, nothing was printed back out because we didn't print it."
      ]
    },
    {
      "cell_type": "code",
      "metadata": {
        "id": "SGboEhmDGLkQ"
      },
      "source": [
        "y = 20\n",
        "print(y)"
      ],
      "execution_count": null,
      "outputs": []
    },
    {
      "cell_type": "markdown",
      "metadata": {
        "id": "agl-HIjaUch0"
      },
      "source": [
        "Let's practice! Add a line to the code block below to print the value of `z`."
      ]
    },
    {
      "cell_type": "code",
      "metadata": {
        "id": "CZzE--8kUgMI",
        "colab": {
          "base_uri": "https://localhost:8080/"
        },
        "outputId": "7047171d-ed5e-42f6-f7b0-c3ab8b4691ac"
      },
      "source": [
        "z = 35\n",
        "### YOUR CODE HERE ### Don't forget to run your code when you're done :)\n",
        "print(z)\n",
        "# By the way, when you add a hashtag to the front of a line of code, this tells the program to treat that line as a comment\n",
        "# Programmers leave comments on their code to leave helpful notes for themselves and communicate information to other programmers!"
      ],
      "execution_count": null,
      "outputs": [
        {
          "output_type": "stream",
          "name": "stdout",
          "text": [
            "35\n"
          ]
        }
      ]
    },
    {
      "cell_type": "markdown",
      "metadata": {
        "id": "fLAAGvkuWLjW"
      },
      "source": [
        "If we use multiple print commands, they will automatically print on separate lines."
      ]
    },
    {
      "cell_type": "code",
      "metadata": {
        "id": "dIX2pxeOWSU4"
      },
      "source": [
        "print(\"Hello!\")\n",
        "print(\"How are you doing?\")"
      ],
      "execution_count": null,
      "outputs": []
    },
    {
      "cell_type": "markdown",
      "metadata": {
        "id": "BVY7e1QGWa4x"
      },
      "source": [
        "One thing that you will find useful is to be able to print out a message but also include the value of a variable in that message:"
      ]
    },
    {
      "cell_type": "code",
      "metadata": {
        "id": "6TqMtz5fWsL-"
      },
      "source": [
        "num_flowers = 5\n",
        "print(\"I have\", num_flowers, \"flowers.\")"
      ],
      "execution_count": null,
      "outputs": []
    },
    {
      "cell_type": "markdown",
      "metadata": {
        "id": "rYzhW61_W7-p"
      },
      "source": [
        "Notice that spaces were added between \"have\", \"5\", and \"flowers\" when we used the commas.\n",
        "\n",
        "In Python, there are many ways to format print statements. Another (advanced) way to format print statements is:"
      ]
    },
    {
      "cell_type": "code",
      "metadata": {
        "id": "J9qnv9eDXR7L"
      },
      "source": [
        "num_flowers = 5\n",
        "print(\"I have {} flowers.\".format(num_flowers))"
      ],
      "execution_count": null,
      "outputs": []
    },
    {
      "cell_type": "markdown",
      "metadata": {
        "id": "K2u4DoJ9XddC"
      },
      "source": [
        "If this line of code seems confusing to you, don't worry! You will naturally understand this after we cover more Python concepts."
      ]
    },
    {
      "cell_type": "code",
      "metadata": {
        "id": "OmJzbbHYz30m"
      },
      "source": [
        "num_books = 100\n",
        "# Write a print statement below to say \"I own 100 books.\", using the variable num_books\n",
        "### YOUR CODE HERE ### \n",
        "print(\"I own\",num_books, \"books.\")"
      ],
      "execution_count": null,
      "outputs": []
    },
    {
      "cell_type": "markdown",
      "metadata": {
        "id": "Qlk179SBGShj"
      },
      "source": [
        "## Variable Naming Rules\n",
        "\n",
        "Variables require the correct input of lowercase and uppercase letters. That means a variable named `thing` and one named `Thing` are different! Let's see what happes when we run code with this mistake:"
      ]
    },
    {
      "cell_type": "code",
      "metadata": {
        "id": "Ii_G-7RhVYqN"
      },
      "source": [
        "thing = 1\n",
        "print(Thing)"
      ],
      "execution_count": null,
      "outputs": []
    },
    {
      "cell_type": "markdown",
      "metadata": {
        "id": "5MrWMUhlVekt"
      },
      "source": [
        "This happens because we created a variable named `thing` but not one named `Thing`.\n",
        "\n",
        "As you have seen in earlier examples, variables can have letters, numbers, and underscores in them. However, there are restrictions.\n",
        "\n",
        "Run the following code blocks to see which ones raise errors:"
      ]
    },
    {
      "cell_type": "code",
      "metadata": {
        "id": "FrJUU4k4WFgi"
      },
      "source": [
        "thing_2 = 5"
      ],
      "execution_count": null,
      "outputs": []
    },
    {
      "cell_type": "code",
      "metadata": {
        "id": "bj-VX0k8WRmd"
      },
      "source": [
        "thing-2 = 5"
      ],
      "execution_count": null,
      "outputs": []
    },
    {
      "cell_type": "code",
      "metadata": {
        "id": "9pGaJumiWTX9"
      },
      "source": [
        "2_thing = 5"
      ],
      "execution_count": null,
      "outputs": []
    },
    {
      "cell_type": "code",
      "metadata": {
        "id": "vppY1oAYKZDD"
      },
      "source": [
        "some_variable = 5"
      ],
      "execution_count": null,
      "outputs": []
    },
    {
      "cell_type": "code",
      "metadata": {
        "id": "2T4xn5M6WWZg"
      },
      "source": [
        "some variable = 5"
      ],
      "execution_count": null,
      "outputs": []
    },
    {
      "cell_type": "markdown",
      "metadata": {
        "id": "4z3D17hHWiDk"
      },
      "source": [
        "From the above examples, you should notice:\n",
        "\n",
        "*   You can only start a variable name with a letter or underscore (no numbers)\n",
        "*   You cannot have a space in a variable name\n",
        "*   You cannot use any special characters (such as`-` or `+`) or punctuation (such as `.` or `,`)"
      ]
    },
    {
      "cell_type": "markdown",
      "metadata": {
        "id": "0Fciw__2K-DO"
      },
      "source": [
        "Finally, as you will see below, you also can't use \"reserved keywords\" as variable names. \"Reserved keywords\" are special words in Python that do specific things in your code. For example, one reserved keyword is `for`. Notice how it brings a syntax error below:"
      ]
    },
    {
      "cell_type": "code",
      "metadata": {
        "id": "y9i_XQ2UXS10"
      },
      "source": [
        "for = 10"
      ],
      "execution_count": null,
      "outputs": []
    },
    {
      "cell_type": "markdown",
      "metadata": {
        "id": "aW9avmXMGIk1"
      },
      "source": [
        "## Data Types\n",
        "\n",
        "So far, we've only assigned numbers to our variables, but in Python, we can assign different types of of data to our variables.\n",
        "\n",
        "For example:"
      ]
    },
    {
      "cell_type": "code",
      "metadata": {
        "id": "JXHccv5bF0R3"
      },
      "source": [
        "# We can assign text to a variable by using quotations or apostrophes\n",
        "some_string = \"Apples\"\n",
        "some_string_2 = 'Oranges'\n",
        "print(some_string)\n",
        "print(some_string_2)"
      ],
      "execution_count": null,
      "outputs": []
    },
    {
      "cell_type": "code",
      "metadata": {
        "id": "uRJBPlU1Iyj4"
      },
      "source": [
        "# We can also assign numbers with decimal points to our variables\n",
        "some_number = 13.45\n",
        "\n",
        "# Another variable type is called a boolean, which can only hold the value of True or False\n",
        "some_boolean = True"
      ],
      "execution_count": null,
      "outputs": []
    },
    {
      "cell_type": "markdown",
      "metadata": {
        "id": "lSJQWGgUXYXV"
      },
      "source": [
        "Okay, let's practice!"
      ]
    },
    {
      "cell_type": "code",
      "metadata": {
        "id": "274hJJg-0Xzc"
      },
      "source": [
        "# Initialize your own variable below (give it any valid name) and assign it the value \"Hello!\". Then print it.\n",
        "### YOUR CODE HERE ### \n",
        "fun_var = \"Hello\"\n",
        "print(fun_var)\n",
        "### END CODE HERE ### "
      ],
      "execution_count": null,
      "outputs": []
    },
    {
      "cell_type": "markdown",
      "metadata": {
        "id": "cl4H_EeSGTw9"
      },
      "source": [
        "## Math in Python\n",
        "\n",
        "Python can also be used as a math calculator. In artificial intelligence, we will often deal with complex numbers and equations, so this is when a calculator comes handy! \n",
        "\n",
        "For example, if we were asked to multiply 23 and 45, we could type it right into Python:"
      ]
    },
    {
      "cell_type": "code",
      "metadata": {
        "id": "5b6juVn90xbc"
      },
      "source": [
        "print(23*45)"
      ],
      "execution_count": null,
      "outputs": []
    },
    {
      "cell_type": "markdown",
      "metadata": {
        "id": "m1XLpRkT1ACS"
      },
      "source": [
        "What if we need to use this answer for future calculations? We can save it as a variable and use it later!"
      ]
    },
    {
      "cell_type": "code",
      "metadata": {
        "id": "WXQ-xXAJF6QT"
      },
      "source": [
        "a = 23 * 45\n",
        "b = 4\n",
        "c = a * b\n",
        "print(c)"
      ],
      "execution_count": null,
      "outputs": []
    },
    {
      "cell_type": "markdown",
      "metadata": {
        "id": "qImtIYnqGh74"
      },
      "source": [
        "### Math Operators\n",
        "\n",
        "See how we do mathematical operations in Python below:"
      ]
    },
    {
      "cell_type": "code",
      "metadata": {
        "id": "pSMipR2J1b8H"
      },
      "source": [
        "addition = 7 + 3\n",
        "subtraction = 18 - 7\n",
        "multiplication = 12 * 3\n",
        "division = 36 / 6\n",
        "exponentiation = 3 ** 2\n",
        "\n",
        "# Notice that if we run this cell block, there is no output (so we can't check our results)"
      ],
      "execution_count": null,
      "outputs": []
    },
    {
      "cell_type": "code",
      "metadata": {
        "id": "cXLQdijcNenJ"
      },
      "source": [
        "# Add a print statement so you can check is the calculations come out as expected!\n",
        "\n",
        "### YOUR CODE HERE ### \n",
        "print(addition)\n",
        "print(subtraction)\n",
        "print(multiplication)\n",
        "print(division)\n",
        "print(exponentiation)\n",
        "### END CODE HERE ###"
      ],
      "execution_count": null,
      "outputs": []
    },
    {
      "cell_type": "markdown",
      "metadata": {
        "id": "ieXkjVSP18iY"
      },
      "source": [
        "Additionally, a math operation you may have not have seen before is called **modulo**. It can be useful when programming and it returns the remainder after you divide.\n",
        "\n",
        "For example:"
      ]
    },
    {
      "cell_type": "code",
      "metadata": {
        "id": "3ndlIJZY2HzW"
      },
      "source": [
        "modulo = 33 % 10\n",
        "print(modulo)\n",
        "\n",
        "# When you divide 33 by 10, you get 3 with a remainder of 3\n",
        "# The modulo (%) operator returns that 3"
      ],
      "execution_count": null,
      "outputs": []
    },
    {
      "cell_type": "markdown",
      "metadata": {
        "id": "CeJcYlEQ2zB6"
      },
      "source": [
        "### Order of Operations and Parentheses\n",
        "\n",
        "Order of operations and parentheses work the same way in Python as you would expect in math."
      ]
    },
    {
      "cell_type": "code",
      "metadata": {
        "id": "JYzFKAQy266e"
      },
      "source": [
        "some_number = (47 + 3) * 2 / 10\n",
        "print(some_number)"
      ],
      "execution_count": null,
      "outputs": []
    },
    {
      "cell_type": "markdown",
      "metadata": {
        "id": "WIB9q_WU3FU8"
      },
      "source": [
        "However, an exception is that you cannot do multiplication by just having parentheses. See below for an example:"
      ]
    },
    {
      "cell_type": "code",
      "metadata": {
        "id": "1LbbzbKF3Klf"
      },
      "source": [
        "some_number_2 = 2 (5 + 5)"
      ],
      "execution_count": null,
      "outputs": []
    },
    {
      "cell_type": "markdown",
      "metadata": {
        "id": "yjv3mJ9Z3dWS"
      },
      "source": [
        "### An Arithmetic Shortcut\n",
        "\n",
        "So far, we've only been initializing new variables. However, variables in Python can be updated to hold new values. For example:"
      ]
    },
    {
      "cell_type": "code",
      "metadata": {
        "id": "34BCUaoC3r6N"
      },
      "source": [
        "a = 10\n",
        "print(a)\n",
        "a = 20\n",
        "print(a)"
      ],
      "execution_count": null,
      "outputs": []
    },
    {
      "cell_type": "markdown",
      "metadata": {
        "id": "2v7QdEfq3wSE"
      },
      "source": [
        "What if we wanted to add 10 to the value of `a`? "
      ]
    },
    {
      "cell_type": "code",
      "metadata": {
        "id": "WZCsT3Xd37N2"
      },
      "source": [
        "a = 20\n",
        "a += 10\n",
        "print(a)\n",
        "# What do you expect this to print?"
      ],
      "execution_count": null,
      "outputs": []
    },
    {
      "cell_type": "markdown",
      "metadata": {
        "id": "z6wdIPsK4B4z"
      },
      "source": [
        "Below is a longer example with other operations. What do you think the final value should be? Try to calculate it yourself before adding a print command to test your answer:"
      ]
    },
    {
      "cell_type": "code",
      "metadata": {
        "id": "6cTxAUwG4KBd",
        "colab": {
          "base_uri": "https://localhost:8080/"
        },
        "outputId": "e20bf2e9-f5f6-4f28-e473-e906d9b80c9e"
      },
      "source": [
        "unknown = 5\n",
        "unknown += 5\n",
        "unknown -= 2\n",
        "unknown *= 8\n",
        "unknown /= 4\n",
        "unknown %= 3\n",
        "\n",
        "##ADD a print statement here\n",
        "print(unknown)"
      ],
      "execution_count": null,
      "outputs": [
        {
          "output_type": "stream",
          "name": "stdout",
          "text": [
            "1.0\n"
          ]
        }
      ]
    }
  ]
}