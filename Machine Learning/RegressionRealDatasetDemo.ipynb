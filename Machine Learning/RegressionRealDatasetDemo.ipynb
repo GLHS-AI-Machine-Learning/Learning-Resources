{
  "nbformat": 4,
  "nbformat_minor": 0,
  "metadata": {
    "colab": {
      "name": "RegressionRealDatasetDemo.ipynb",
      "provenance": []
    },
    "kernelspec": {
      "name": "python3",
      "display_name": "Python 3"
    },
    "language_info": {
      "name": "python"
    }
  },
  "cells": [
    {
      "cell_type": "markdown",
      "source": [
        "# Regression: Using a Real World Dataset\n",
        "\n",
        "Created for Green Level High School AI & Machine Learning Club\n",
        "\n",
        "Dataset Source: https://www.kaggle.com/camnugent/california-housing-prices "
      ],
      "metadata": {
        "id": "dwEfpwKYuTt7"
      }
    },
    {
      "cell_type": "markdown",
      "source": [
        "Dataset overview: The data is based on houses in California in the 1990 census data.\n",
        "\n",
        "\n",
        "Features we will use\n",
        "* longitude: A measure of how far west a house is; a higher value is farther west\n",
        "\n",
        "* latitude: A measure of how far north a house is; a higher value is farther north\n",
        "\n",
        "* housingMedianAge: Median age of a house within a block; a lower number is a newer building\n",
        "\n",
        "* totalRooms: Total number of rooms within a block\n",
        "\n",
        "* population: Total number of people residing within a block\n",
        "\n",
        "* households: Total number of households, a group of people residing within a home unit, for a block\n",
        "\n",
        "* medianIncome: Median income for households within a block of houses (measured in tens of thousands of US Dollars)\n",
        "\n",
        "\n",
        "Label (what we will predict)\n",
        "* medianHouseValue: Median house value for households within a block (measured in US Dollars)\n"
      ],
      "metadata": {
        "id": "_7H4XKkFucCO"
      }
    },
    {
      "cell_type": "code",
      "source": [
        "# STEP 1: Import Libraries\n",
        "# What are some common libraries we use?\n",
        "import pandas as pd\n",
        "from sklearn import tree  # We will use tree.DecisionTreeRegressor(), not tree.DecisionTreeClassifier()\n",
        "# Here's another one for when datasets aren't automatically in train and test sets\n",
        "from sklearn.model_selection import train_test_split"
      ],
      "metadata": {
        "id": "Im628UJxuZCr"
      },
      "execution_count": 2,
      "outputs": []
    },
    {
      "cell_type": "code",
      "source": [
        "# STEP 2: Import Dataset\n",
        "data = pd.read_csv('housing.csv')\n",
        "print(data.head())"
      ],
      "metadata": {
        "id": "meLYHv_uwdLu"
      },
      "execution_count": 4,
      "outputs": []
    },
    {
      "cell_type": "code",
      "source": [
        "#STEP 3: Splitting Up the Dataset\n",
        "\n",
        "# First we need to remove the 'label' column from the dataset\n",
        "# Why do we need to do this?\n",
        "X = data.drop('median_house_value', axis = 'columns').drop('ocean_proximity', axis = 'columns').drop('total_bedrooms', axis = 'columns') \n",
        "# Removed ocean_proximity b/c it was string not float, removed total_bedrooms b/c missing values\n",
        "y = data.median_house_value\n",
        "\n",
        "# Partition the dataset into train and test\n",
        "X_train, X_test, y_train, y_test = train_test_split(X, y, train_size=0.75, random_state=0) \n"
      ],
      "metadata": {
        "id": "ok6MBizMy9P0"
      },
      "execution_count": null,
      "outputs": []
    },
    {
      "cell_type": "code",
      "source": [
        "# STEP 4: Training\n",
        "regression = tree.DecisionTreeRegressor()\n",
        "regression.fit(X_train, y_train)"
      ],
      "metadata": {
        "colab": {
          "base_uri": "https://localhost:8080/"
        },
        "id": "3sA7yPddzbX1",
        "outputId": "8ed39ed0-81dc-4280-bd31-ef41b031efa9"
      },
      "execution_count": null,
      "outputs": [
        {
          "output_type": "execute_result",
          "data": {
            "text/plain": [
              "DecisionTreeRegressor()"
            ]
          },
          "metadata": {},
          "execution_count": 17
        }
      ]
    },
    {
      "cell_type": "code",
      "source": [
        "# STEP 5: Testing\n",
        "y_predict = regression.predict(X_test)\n",
        "print(y_predict) "
      ],
      "metadata": {
        "colab": {
          "base_uri": "https://localhost:8080/"
        },
        "id": "X8v59Qch0Xoi",
        "outputId": "abf21bc0-559c-4192-81db-a7dcd8c126d7"
      },
      "execution_count": null,
      "outputs": [
        {
          "output_type": "stream",
          "name": "stdout",
          "text": [
            "[131000. 205200. 160300. ... 281300. 314900. 246400.]\n"
          ]
        }
      ]
    },
    {
      "cell_type": "code",
      "source": [
        "# STEP 6: Measuring Error\n",
        "\n",
        "from sklearn.metrics import mean_squared_log_error\n",
        "accuracy = mean_squared_log_error(y_test, y_predict)\n",
        "print(accuracy)"
      ],
      "metadata": {
        "colab": {
          "base_uri": "https://localhost:8080/"
        },
        "id": "KP_e3rY07O11",
        "outputId": "7d080779-1502-4ac3-9e04-b758869862a1"
      },
      "execution_count": null,
      "outputs": [
        {
          "output_type": "stream",
          "name": "stdout",
          "text": [
            "0.10303647638916677\n"
          ]
        }
      ]
    }
  ]
}