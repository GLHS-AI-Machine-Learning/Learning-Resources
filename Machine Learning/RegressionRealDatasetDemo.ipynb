{
  "cells": [
    {
      "cell_type": "markdown",
      "metadata": {
        "id": "dwEfpwKYuTt7"
      },
      "source": [
        "# Regression: Using a Real World Dataset\n",
        "\n",
        "Created for Green Level High School AI & Machine Learning Club\n",
        "\n",
        "Dataset Source: https://www.kaggle.com/camnugent/california-housing-prices "
      ]
    },
    {
      "cell_type": "markdown",
      "metadata": {
        "id": "_7H4XKkFucCO"
      },
      "source": [
        "Dataset overview: The data is based on houses in California in the 1990 census data.\n",
        "\n",
        "\n",
        "Features we will use\n",
        "* longitude: A measure of how far west a house is; a higher value is farther west\n",
        "\n",
        "* latitude: A measure of how far north a house is; a higher value is farther north\n",
        "\n",
        "* housingMedianAge: Median age of a house within a block; a lower number is a newer building\n",
        "\n",
        "* totalRooms: Total number of rooms within a block\n",
        "\n",
        "* population: Total number of people residing within a block\n",
        "\n",
        "* households: Total number of households, a group of people residing within a home unit, for a block\n",
        "\n",
        "* medianIncome: Median income for households within a block of houses (measured in tens of thousands of US Dollars)\n",
        "\n",
        "\n",
        "Label (what we will predict)\n",
        "* medianHouseValue: Median house value for households within a block (measured in US Dollars)\n"
      ]
    },
    {
      "cell_type": "code",
      "execution_count": 4,
      "metadata": {
        "id": "meLYHv_uwdLu"
      },
      "outputs": [],
      "source": [
        "# STEP 1: Import Dataset\n",
        "import pandas as pd\n",
        "data = pd.read_csv('housing.csv')\n",
        "print(data.head())"
      ]
    },
    {
      "cell_type": "code",
      "execution_count": null,
      "metadata": {
        "id": "ok6MBizMy9P0"
      },
      "outputs": [],
      "source": [
        "# STEP 2: Splitting Up the Dataset\n",
        "\n",
        "# Here's a function for when datasets aren't automatically in train and test sets\n",
        "from sklearn.model_selection import train_test_split\n",
        "\n",
        "# First we need to remove the 'label' column from the dataset\n",
        "# Why do we need to do this?\n",
        "X = data.drop('median_house_value', axis = 'columns').drop('ocean_proximity', axis = 'columns').drop('total_bedrooms', axis = 'columns') \n",
        "# Removed ocean_proximity b/c it was string not float, removed total_bedrooms b/c missing values\n",
        "y = data.median_house_value\n",
        "\n",
        "# Partition the dataset into train and test\n",
        "X_train, X_test, y_train, y_test = train_test_split(X, y, train_size=0.75, random_state=0) \n"
      ]
    },
    {
      "cell_type": "code",
      "execution_count": null,
      "metadata": {
        "colab": {
          "base_uri": "https://localhost:8080/"
        },
        "id": "3sA7yPddzbX1",
        "outputId": "8ed39ed0-81dc-4280-bd31-ef41b031efa9"
      },
      "outputs": [
        {
          "data": {
            "text/plain": [
              "DecisionTreeRegressor()"
            ]
          },
          "execution_count": 17,
          "metadata": {},
          "output_type": "execute_result"
        }
      ],
      "source": [
        "# STEP 3: Training\n",
        "\n",
        "from sklearn import tree  # We will use tree.DecisionTreeRegressor(), not tree.DecisionTreeClassifier()\n",
        "\n",
        "regression = tree.DecisionTreeRegressor()\n",
        "regression.fit(X_train, y_train)"
      ]
    },
    {
      "cell_type": "code",
      "execution_count": null,
      "metadata": {
        "colab": {
          "base_uri": "https://localhost:8080/"
        },
        "id": "X8v59Qch0Xoi",
        "outputId": "abf21bc0-559c-4192-81db-a7dcd8c126d7"
      },
      "outputs": [
        {
          "name": "stdout",
          "output_type": "stream",
          "text": [
            "[131000. 205200. 160300. ... 281300. 314900. 246400.]\n"
          ]
        }
      ],
      "source": [
        "# STEP 4: Testing\n",
        "y_predict = regression.predict(X_test)\n",
        "print(y_predict) "
      ]
    },
    {
      "cell_type": "code",
      "execution_count": null,
      "metadata": {
        "colab": {
          "base_uri": "https://localhost:8080/"
        },
        "id": "KP_e3rY07O11",
        "outputId": "7d080779-1502-4ac3-9e04-b758869862a1"
      },
      "outputs": [
        {
          "name": "stdout",
          "output_type": "stream",
          "text": [
            "0.10303647638916677\n"
          ]
        }
      ],
      "source": [
        "# STEP 5: Measuring Error\n",
        "\n",
        "from sklearn.metrics import mean_squared_log_error\n",
        "error = mean_squared_log_error(y_test, y_predict)\n",
        "print(error)"
      ]
    }
  ],
  "metadata": {
    "colab": {
      "name": "RegressionRealDatasetDemo.ipynb",
      "provenance": []
    },
    "kernelspec": {
      "display_name": "Python 3",
      "name": "python3"
    },
    "language_info": {
      "name": "python"
    }
  },
  "nbformat": 4,
  "nbformat_minor": 0
}
